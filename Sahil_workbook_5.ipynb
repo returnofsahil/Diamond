{
 "cells": [
  {
   "attachments": {},
   "cell_type": "markdown",
   "id": "5636f835",
   "metadata": {},
   "source": [
    "### Importing Cleaning the Datasetand Intial EDA"
   ]
  },
  {
   "cell_type": "code",
   "execution_count": 1,
   "id": "c3f8d09c",
   "metadata": {},
   "outputs": [],
   "source": [
    "import pandas as pd\n",
    "import numpy as np"
   ]
  },
  {
   "cell_type": "code",
   "execution_count": 2,
   "id": "25439386",
   "metadata": {},
   "outputs": [],
   "source": [
    "df = pd.read_csv('cubic_zirconia.csv')"
   ]
  },
  {
   "cell_type": "code",
   "execution_count": 3,
   "id": "05764de7",
   "metadata": {},
   "outputs": [
    {
     "data": {
      "text/html": [
       "<div>\n",
       "<style scoped>\n",
       "    .dataframe tbody tr th:only-of-type {\n",
       "        vertical-align: middle;\n",
       "    }\n",
       "\n",
       "    .dataframe tbody tr th {\n",
       "        vertical-align: top;\n",
       "    }\n",
       "\n",
       "    .dataframe thead th {\n",
       "        text-align: right;\n",
       "    }\n",
       "</style>\n",
       "<table border=\"1\" class=\"dataframe\">\n",
       "  <thead>\n",
       "    <tr style=\"text-align: right;\">\n",
       "      <th></th>\n",
       "      <th>Unnamed: 0</th>\n",
       "      <th>carat</th>\n",
       "      <th>cut</th>\n",
       "      <th>color</th>\n",
       "      <th>clarity</th>\n",
       "      <th>depth</th>\n",
       "      <th>table</th>\n",
       "      <th>x</th>\n",
       "      <th>y</th>\n",
       "      <th>z</th>\n",
       "      <th>price</th>\n",
       "    </tr>\n",
       "  </thead>\n",
       "  <tbody>\n",
       "    <tr>\n",
       "      <th>0</th>\n",
       "      <td>1</td>\n",
       "      <td>0.30</td>\n",
       "      <td>Ideal</td>\n",
       "      <td>E</td>\n",
       "      <td>SI1</td>\n",
       "      <td>62.1</td>\n",
       "      <td>58.0</td>\n",
       "      <td>4.27</td>\n",
       "      <td>4.29</td>\n",
       "      <td>2.66</td>\n",
       "      <td>499</td>\n",
       "    </tr>\n",
       "    <tr>\n",
       "      <th>1</th>\n",
       "      <td>2</td>\n",
       "      <td>0.33</td>\n",
       "      <td>Premium</td>\n",
       "      <td>G</td>\n",
       "      <td>IF</td>\n",
       "      <td>60.8</td>\n",
       "      <td>58.0</td>\n",
       "      <td>4.42</td>\n",
       "      <td>4.46</td>\n",
       "      <td>2.70</td>\n",
       "      <td>984</td>\n",
       "    </tr>\n",
       "    <tr>\n",
       "      <th>2</th>\n",
       "      <td>3</td>\n",
       "      <td>0.90</td>\n",
       "      <td>Very Good</td>\n",
       "      <td>E</td>\n",
       "      <td>VVS2</td>\n",
       "      <td>62.2</td>\n",
       "      <td>60.0</td>\n",
       "      <td>6.04</td>\n",
       "      <td>6.12</td>\n",
       "      <td>3.78</td>\n",
       "      <td>6289</td>\n",
       "    </tr>\n",
       "    <tr>\n",
       "      <th>3</th>\n",
       "      <td>4</td>\n",
       "      <td>0.42</td>\n",
       "      <td>Ideal</td>\n",
       "      <td>F</td>\n",
       "      <td>VS1</td>\n",
       "      <td>61.6</td>\n",
       "      <td>56.0</td>\n",
       "      <td>4.82</td>\n",
       "      <td>4.80</td>\n",
       "      <td>2.96</td>\n",
       "      <td>1082</td>\n",
       "    </tr>\n",
       "    <tr>\n",
       "      <th>4</th>\n",
       "      <td>5</td>\n",
       "      <td>0.31</td>\n",
       "      <td>Ideal</td>\n",
       "      <td>F</td>\n",
       "      <td>VVS1</td>\n",
       "      <td>60.4</td>\n",
       "      <td>59.0</td>\n",
       "      <td>4.35</td>\n",
       "      <td>4.43</td>\n",
       "      <td>2.65</td>\n",
       "      <td>779</td>\n",
       "    </tr>\n",
       "  </tbody>\n",
       "</table>\n",
       "</div>"
      ],
      "text/plain": [
       "   Unnamed: 0  carat        cut color clarity  depth  table     x     y     z  \\\n",
       "0           1   0.30      Ideal     E     SI1   62.1   58.0  4.27  4.29  2.66   \n",
       "1           2   0.33    Premium     G      IF   60.8   58.0  4.42  4.46  2.70   \n",
       "2           3   0.90  Very Good     E    VVS2   62.2   60.0  6.04  6.12  3.78   \n",
       "3           4   0.42      Ideal     F     VS1   61.6   56.0  4.82  4.80  2.96   \n",
       "4           5   0.31      Ideal     F    VVS1   60.4   59.0  4.35  4.43  2.65   \n",
       "\n",
       "   price  \n",
       "0    499  \n",
       "1    984  \n",
       "2   6289  \n",
       "3   1082  \n",
       "4    779  "
      ]
     },
     "execution_count": 3,
     "metadata": {},
     "output_type": "execute_result"
    }
   ],
   "source": [
    "df.head()"
   ]
  },
  {
   "cell_type": "code",
   "execution_count": 4,
   "id": "ebfafa43",
   "metadata": {},
   "outputs": [
    {
     "data": {
      "text/html": [
       "<div>\n",
       "<style scoped>\n",
       "    .dataframe tbody tr th:only-of-type {\n",
       "        vertical-align: middle;\n",
       "    }\n",
       "\n",
       "    .dataframe tbody tr th {\n",
       "        vertical-align: top;\n",
       "    }\n",
       "\n",
       "    .dataframe thead th {\n",
       "        text-align: right;\n",
       "    }\n",
       "</style>\n",
       "<table border=\"1\" class=\"dataframe\">\n",
       "  <thead>\n",
       "    <tr style=\"text-align: right;\">\n",
       "      <th></th>\n",
       "      <th>count</th>\n",
       "      <th>mean</th>\n",
       "      <th>std</th>\n",
       "      <th>min</th>\n",
       "      <th>25%</th>\n",
       "      <th>50%</th>\n",
       "      <th>75%</th>\n",
       "      <th>max</th>\n",
       "    </tr>\n",
       "  </thead>\n",
       "  <tbody>\n",
       "    <tr>\n",
       "      <th>Unnamed: 0</th>\n",
       "      <td>26967.0</td>\n",
       "      <td>13484.000000</td>\n",
       "      <td>7784.846691</td>\n",
       "      <td>1.0</td>\n",
       "      <td>6742.50</td>\n",
       "      <td>13484.00</td>\n",
       "      <td>20225.50</td>\n",
       "      <td>26967.00</td>\n",
       "    </tr>\n",
       "    <tr>\n",
       "      <th>carat</th>\n",
       "      <td>26967.0</td>\n",
       "      <td>0.798375</td>\n",
       "      <td>0.477745</td>\n",
       "      <td>0.2</td>\n",
       "      <td>0.40</td>\n",
       "      <td>0.70</td>\n",
       "      <td>1.05</td>\n",
       "      <td>4.50</td>\n",
       "    </tr>\n",
       "    <tr>\n",
       "      <th>depth</th>\n",
       "      <td>26270.0</td>\n",
       "      <td>61.745147</td>\n",
       "      <td>1.412860</td>\n",
       "      <td>50.8</td>\n",
       "      <td>61.00</td>\n",
       "      <td>61.80</td>\n",
       "      <td>62.50</td>\n",
       "      <td>73.60</td>\n",
       "    </tr>\n",
       "    <tr>\n",
       "      <th>table</th>\n",
       "      <td>26967.0</td>\n",
       "      <td>57.456080</td>\n",
       "      <td>2.232068</td>\n",
       "      <td>49.0</td>\n",
       "      <td>56.00</td>\n",
       "      <td>57.00</td>\n",
       "      <td>59.00</td>\n",
       "      <td>79.00</td>\n",
       "    </tr>\n",
       "    <tr>\n",
       "      <th>x</th>\n",
       "      <td>26967.0</td>\n",
       "      <td>5.729854</td>\n",
       "      <td>1.128516</td>\n",
       "      <td>0.0</td>\n",
       "      <td>4.71</td>\n",
       "      <td>5.69</td>\n",
       "      <td>6.55</td>\n",
       "      <td>10.23</td>\n",
       "    </tr>\n",
       "    <tr>\n",
       "      <th>y</th>\n",
       "      <td>26967.0</td>\n",
       "      <td>5.733569</td>\n",
       "      <td>1.166058</td>\n",
       "      <td>0.0</td>\n",
       "      <td>4.71</td>\n",
       "      <td>5.71</td>\n",
       "      <td>6.54</td>\n",
       "      <td>58.90</td>\n",
       "    </tr>\n",
       "    <tr>\n",
       "      <th>z</th>\n",
       "      <td>26967.0</td>\n",
       "      <td>3.538057</td>\n",
       "      <td>0.720624</td>\n",
       "      <td>0.0</td>\n",
       "      <td>2.90</td>\n",
       "      <td>3.52</td>\n",
       "      <td>4.04</td>\n",
       "      <td>31.80</td>\n",
       "    </tr>\n",
       "    <tr>\n",
       "      <th>price</th>\n",
       "      <td>26967.0</td>\n",
       "      <td>3939.518115</td>\n",
       "      <td>4024.864666</td>\n",
       "      <td>326.0</td>\n",
       "      <td>945.00</td>\n",
       "      <td>2375.00</td>\n",
       "      <td>5360.00</td>\n",
       "      <td>18818.00</td>\n",
       "    </tr>\n",
       "  </tbody>\n",
       "</table>\n",
       "</div>"
      ],
      "text/plain": [
       "              count          mean          std    min      25%       50%  \\\n",
       "Unnamed: 0  26967.0  13484.000000  7784.846691    1.0  6742.50  13484.00   \n",
       "carat       26967.0      0.798375     0.477745    0.2     0.40      0.70   \n",
       "depth       26270.0     61.745147     1.412860   50.8    61.00     61.80   \n",
       "table       26967.0     57.456080     2.232068   49.0    56.00     57.00   \n",
       "x           26967.0      5.729854     1.128516    0.0     4.71      5.69   \n",
       "y           26967.0      5.733569     1.166058    0.0     4.71      5.71   \n",
       "z           26967.0      3.538057     0.720624    0.0     2.90      3.52   \n",
       "price       26967.0   3939.518115  4024.864666  326.0   945.00   2375.00   \n",
       "\n",
       "                 75%       max  \n",
       "Unnamed: 0  20225.50  26967.00  \n",
       "carat           1.05      4.50  \n",
       "depth          62.50     73.60  \n",
       "table          59.00     79.00  \n",
       "x               6.55     10.23  \n",
       "y               6.54     58.90  \n",
       "z               4.04     31.80  \n",
       "price        5360.00  18818.00  "
      ]
     },
     "execution_count": 4,
     "metadata": {},
     "output_type": "execute_result"
    }
   ],
   "source": [
    "df.describe().T"
   ]
  },
  {
   "cell_type": "code",
   "execution_count": 5,
   "id": "3706ebf7",
   "metadata": {},
   "outputs": [
    {
     "name": "stdout",
     "output_type": "stream",
     "text": [
      "<class 'pandas.core.frame.DataFrame'>\n",
      "RangeIndex: 26967 entries, 0 to 26966\n",
      "Data columns (total 11 columns):\n",
      " #   Column      Non-Null Count  Dtype  \n",
      "---  ------      --------------  -----  \n",
      " 0   Unnamed: 0  26967 non-null  int64  \n",
      " 1   carat       26967 non-null  float64\n",
      " 2   cut         26967 non-null  object \n",
      " 3   color       26967 non-null  object \n",
      " 4   clarity     26967 non-null  object \n",
      " 5   depth       26270 non-null  float64\n",
      " 6   table       26967 non-null  float64\n",
      " 7   x           26967 non-null  float64\n",
      " 8   y           26967 non-null  float64\n",
      " 9   z           26967 non-null  float64\n",
      " 10  price       26967 non-null  int64  \n",
      "dtypes: float64(6), int64(2), object(3)\n",
      "memory usage: 2.3+ MB\n"
     ]
    }
   ],
   "source": [
    "df.info()"
   ]
  },
  {
   "cell_type": "code",
   "execution_count": 6,
   "id": "9f3ce04e",
   "metadata": {},
   "outputs": [
    {
     "data": {
      "text/plain": [
       "Unnamed: 0      0\n",
       "carat           0\n",
       "cut             0\n",
       "color           0\n",
       "clarity         0\n",
       "depth         697\n",
       "table           0\n",
       "x               0\n",
       "y               0\n",
       "z               0\n",
       "price           0\n",
       "dtype: int64"
      ]
     },
     "execution_count": 6,
     "metadata": {},
     "output_type": "execute_result"
    }
   ],
   "source": [
    "df.isnull().sum()"
   ]
  },
  {
   "cell_type": "code",
   "execution_count": 7,
   "id": "1a8918ab",
   "metadata": {},
   "outputs": [
    {
     "data": {
      "text/plain": [
       "0        62.1\n",
       "1        60.8\n",
       "2        62.2\n",
       "3        61.6\n",
       "4        60.4\n",
       "         ... \n",
       "26962    62.3\n",
       "26963    61.9\n",
       "26964    61.7\n",
       "26965    61.8\n",
       "26966    62.0\n",
       "Name: depth, Length: 26967, dtype: float64"
      ]
     },
     "execution_count": 7,
     "metadata": {},
     "output_type": "execute_result"
    }
   ],
   "source": [
    "df['depth']"
   ]
  },
  {
   "cell_type": "code",
   "execution_count": 8,
   "id": "f513f74d",
   "metadata": {},
   "outputs": [
    {
     "data": {
      "text/plain": [
       "61.8"
      ]
     },
     "execution_count": 8,
     "metadata": {},
     "output_type": "execute_result"
    }
   ],
   "source": [
    "df['depth'].median()"
   ]
  },
  {
   "cell_type": "code",
   "execution_count": 9,
   "id": "0528763c",
   "metadata": {},
   "outputs": [
    {
     "data": {
      "text/plain": [
       "61.74514655500572"
      ]
     },
     "execution_count": 9,
     "metadata": {},
     "output_type": "execute_result"
    }
   ],
   "source": [
    "df['depth'].mean()"
   ]
  },
  {
   "cell_type": "code",
   "execution_count": 10,
   "id": "ba738d85",
   "metadata": {},
   "outputs": [],
   "source": [
    "#  outliers are not present in depth"
   ]
  },
  {
   "cell_type": "code",
   "execution_count": 11,
   "id": "a2e18462",
   "metadata": {},
   "outputs": [],
   "source": [
    "import matplotlib.pyplot as plt"
   ]
  },
  {
   "cell_type": "code",
   "execution_count": 12,
   "id": "8a40bfe1",
   "metadata": {},
   "outputs": [
    {
     "data": {
      "text/plain": [
       "{'whiskers': [<matplotlib.lines.Line2D at 0x29a8bcda190>,\n",
       "  <matplotlib.lines.Line2D at 0x29a8bd4fa90>],\n",
       " 'caps': [<matplotlib.lines.Line2D at 0x29a8bd646d0>,\n",
       "  <matplotlib.lines.Line2D at 0x29a8bd65390>],\n",
       " 'boxes': [<matplotlib.lines.Line2D at 0x29a8bd4dbd0>],\n",
       " 'medians': [<matplotlib.lines.Line2D at 0x29a8bd65f50>],\n",
       " 'fliers': [<matplotlib.lines.Line2D at 0x29a8bd4fa10>],\n",
       " 'means': []}"
      ]
     },
     "execution_count": 12,
     "metadata": {},
     "output_type": "execute_result"
    },
    {
     "data": {
      "image/png": "[encoded data removed]",
      "text/plain": [
       "<Figure size 640x480 with 1 Axes>"
      ]
     },
     "metadata": {},
     "output_type": "display_data"
    }
   ],
   "source": [
    "plt.boxplot(x=df['depth'])"
   ]
  },
  {
   "cell_type": "code",
   "execution_count": 13,
   "id": "81128a18",
   "metadata": {},
   "outputs": [
    {
     "name": "stdout",
     "output_type": "stream",
     "text": [
      "<class 'pandas.core.series.Series'>\n",
      "RangeIndex: 26967 entries, 0 to 26966\n",
      "Series name: depth\n",
      "Non-Null Count  Dtype  \n",
      "--------------  -----  \n",
      "26270 non-null  float64\n",
      "dtypes: float64(1)\n",
      "memory usage: 210.8 KB\n"
     ]
    }
   ],
   "source": [
    "df['depth'].info()"
   ]
  },
  {
   "cell_type": "code",
   "execution_count": 14,
   "id": "cdf07964",
   "metadata": {},
   "outputs": [],
   "source": [
    "import seaborn as sns"
   ]
  },
  {
   "cell_type": "code",
   "execution_count": 15,
   "id": "176d132a",
   "metadata": {},
   "outputs": [
    {
     "data": {
      "text/plain": [
       "<Axes: >"
      ]
     },
     "execution_count": 15,
     "metadata": {},
     "output_type": "execute_result"
    },
    {
     "data": {
      "image/png": "[encoded data removed]",
      "text/plain": [
       "<Figure size 640x480 with 1 Axes>"
      ]
     },
     "metadata": {},
     "output_type": "display_data"
    }
   ],
   "source": [
    "sns.boxplot(df['depth'])"
   ]
  },
  {
   "cell_type": "code",
   "execution_count": 16,
   "id": "e54c9839",
   "metadata": {},
   "outputs": [
    {
     "data": {
      "text/plain": [
       "14       66.2\n",
       "100      66.8\n",
       "174      68.3\n",
       "177      66.5\n",
       "428      70.6\n",
       "         ... \n",
       "25862    72.9\n",
       "25883    72.2\n",
       "26401    66.9\n",
       "26573    70.8\n",
       "26925    66.2\n",
       "Name: depth, Length: 178, dtype: float64"
      ]
     },
     "execution_count": 16,
     "metadata": {},
     "output_type": "execute_result"
    }
   ],
   "source": [
    "df['depth'][df['depth'] > 66]"
   ]
  },
  {
   "attachments": {},
   "cell_type": "markdown",
   "id": "752d7894",
   "metadata": {},
   "source": [
    "### outliers are presnt in depth"
   ]
  },
  {
   "cell_type": "code",
   "execution_count": 17,
   "id": "b9eb9bfc",
   "metadata": {},
   "outputs": [],
   "source": [
    "df['depth'].fillna(df['depth'].median() ,inplace = True)\n",
    "# Here imputating with median as outliers are present"
   ]
  },
  {
   "cell_type": "code",
   "execution_count": 18,
   "id": "3a64e0a2",
   "metadata": {},
   "outputs": [
    {
     "data": {
      "text/plain": [
       "Unnamed: 0    0\n",
       "carat         0\n",
       "cut           0\n",
       "color         0\n",
       "clarity       0\n",
       "depth         0\n",
       "table         0\n",
       "x             0\n",
       "y             0\n",
       "z             0\n",
       "price         0\n",
       "dtype: int64"
      ]
     },
     "execution_count": 18,
     "metadata": {},
     "output_type": "execute_result"
    }
   ],
   "source": [
    "df.isnull().sum()"
   ]
  },
  {
   "cell_type": "code",
   "execution_count": 19,
   "id": "778e7815",
   "metadata": {},
   "outputs": [
    {
     "name": "stdout",
     "output_type": "stream",
     "text": [
      "<class 'pandas.core.frame.DataFrame'>\n",
      "RangeIndex: 26967 entries, 0 to 26966\n",
      "Data columns (total 11 columns):\n",
      " #   Column      Non-Null Count  Dtype  \n",
      "---  ------      --------------  -----  \n",
      " 0   Unnamed: 0  26967 non-null  int64  \n",
      " 1   carat       26967 non-null  float64\n",
      " 2   cut         26967 non-null  object \n",
      " 3   color       26967 non-null  object \n",
      " 4   clarity     26967 non-null  object \n",
      " 5   depth       26967 non-null  float64\n",
      " 6   table       26967 non-null  float64\n",
      " 7   x           26967 non-null  float64\n",
      " 8   y           26967 non-null  float64\n",
      " 9   z           26967 non-null  float64\n",
      " 10  price       26967 non-null  int64  \n",
      "dtypes: float64(6), int64(2), object(3)\n",
      "memory usage: 2.3+ MB\n"
     ]
    }
   ],
   "source": [
    "df.info()"
   ]
  },
  {
   "cell_type": "code",
   "execution_count": 20,
   "id": "11d8a124",
   "metadata": {},
   "outputs": [
    {
     "data": {
      "text/html": [
       "<div>\n",
       "<style scoped>\n",
       "    .dataframe tbody tr th:only-of-type {\n",
       "        vertical-align: middle;\n",
       "    }\n",
       "\n",
       "    .dataframe tbody tr th {\n",
       "        vertical-align: top;\n",
       "    }\n",
       "\n",
       "    .dataframe thead th {\n",
       "        text-align: right;\n",
       "    }\n",
       "</style>\n",
       "<table border=\"1\" class=\"dataframe\">\n",
       "  <thead>\n",
       "    <tr style=\"text-align: right;\">\n",
       "      <th></th>\n",
       "      <th>count</th>\n",
       "      <th>mean</th>\n",
       "      <th>std</th>\n",
       "      <th>min</th>\n",
       "      <th>25%</th>\n",
       "      <th>50%</th>\n",
       "      <th>75%</th>\n",
       "      <th>max</th>\n",
       "    </tr>\n",
       "  </thead>\n",
       "  <tbody>\n",
       "    <tr>\n",
       "      <th>Unnamed: 0</th>\n",
       "      <td>26967.0</td>\n",
       "      <td>13484.000000</td>\n",
       "      <td>7784.846691</td>\n",
       "      <td>1.0</td>\n",
       "      <td>6742.50</td>\n",
       "      <td>13484.00</td>\n",
       "      <td>20225.50</td>\n",
       "      <td>26967.00</td>\n",
       "    </tr>\n",
       "    <tr>\n",
       "      <th>carat</th>\n",
       "      <td>26967.0</td>\n",
       "      <td>0.798375</td>\n",
       "      <td>0.477745</td>\n",
       "      <td>0.2</td>\n",
       "      <td>0.40</td>\n",
       "      <td>0.70</td>\n",
       "      <td>1.05</td>\n",
       "      <td>4.50</td>\n",
       "    </tr>\n",
       "    <tr>\n",
       "      <th>depth</th>\n",
       "      <td>26967.0</td>\n",
       "      <td>61.746564</td>\n",
       "      <td>1.394509</td>\n",
       "      <td>50.8</td>\n",
       "      <td>61.10</td>\n",
       "      <td>61.80</td>\n",
       "      <td>62.50</td>\n",
       "      <td>73.60</td>\n",
       "    </tr>\n",
       "    <tr>\n",
       "      <th>table</th>\n",
       "      <td>26967.0</td>\n",
       "      <td>57.456080</td>\n",
       "      <td>2.232068</td>\n",
       "      <td>49.0</td>\n",
       "      <td>56.00</td>\n",
       "      <td>57.00</td>\n",
       "      <td>59.00</td>\n",
       "      <td>79.00</td>\n",
       "    </tr>\n",
       "    <tr>\n",
       "      <th>x</th>\n",
       "      <td>26967.0</td>\n",
       "      <td>5.729854</td>\n",
       "      <td>1.128516</td>\n",
       "      <td>0.0</td>\n",
       "      <td>4.71</td>\n",
       "      <td>5.69</td>\n",
       "      <td>6.55</td>\n",
       "      <td>10.23</td>\n",
       "    </tr>\n",
       "    <tr>\n",
       "      <th>y</th>\n",
       "      <td>26967.0</td>\n",
       "      <td>5.733569</td>\n",
       "      <td>1.166058</td>\n",
       "      <td>0.0</td>\n",
       "      <td>4.71</td>\n",
       "      <td>5.71</td>\n",
       "      <td>6.54</td>\n",
       "      <td>58.90</td>\n",
       "    </tr>\n",
       "    <tr>\n",
       "      <th>z</th>\n",
       "      <td>26967.0</td>\n",
       "      <td>3.538057</td>\n",
       "      <td>0.720624</td>\n",
       "      <td>0.0</td>\n",
       "      <td>2.90</td>\n",
       "      <td>3.52</td>\n",
       "      <td>4.04</td>\n",
       "      <td>31.80</td>\n",
       "    </tr>\n",
       "    <tr>\n",
       "      <th>price</th>\n",
       "      <td>26967.0</td>\n",
       "      <td>3939.518115</td>\n",
       "      <td>4024.864666</td>\n",
       "      <td>326.0</td>\n",
       "      <td>945.00</td>\n",
       "      <td>2375.00</td>\n",
       "      <td>5360.00</td>\n",
       "      <td>18818.00</td>\n",
       "    </tr>\n",
       "  </tbody>\n",
       "</table>\n",
       "</div>"
      ],
      "text/plain": [
       "              count          mean          std    min      25%       50%  \\\n",
       "Unnamed: 0  26967.0  13484.000000  7784.846691    1.0  6742.50  13484.00   \n",
       "carat       26967.0      0.798375     0.477745    0.2     0.40      0.70   \n",
       "depth       26967.0     61.746564     1.394509   50.8    61.10     61.80   \n",
       "table       26967.0     57.456080     2.232068   49.0    56.00     57.00   \n",
       "x           26967.0      5.729854     1.128516    0.0     4.71      5.69   \n",
       "y           26967.0      5.733569     1.166058    0.0     4.71      5.71   \n",
       "z           26967.0      3.538057     0.720624    0.0     2.90      3.52   \n",
       "price       26967.0   3939.518115  4024.864666  326.0   945.00   2375.00   \n",
       "\n",
       "                 75%       max  \n",
       "Unnamed: 0  20225.50  26967.00  \n",
       "carat           1.05      4.50  \n",
       "depth          62.50     73.60  \n",
       "table          59.00     79.00  \n",
       "x               6.55     10.23  \n",
       "y               6.54     58.90  \n",
       "z               4.04     31.80  \n",
       "price        5360.00  18818.00  "
      ]
     },
     "execution_count": 20,
     "metadata": {},
     "output_type": "execute_result"
    }
   ],
   "source": [
    "df.describe().T"
   ]
  },
  {
   "cell_type": "code",
   "execution_count": 21,
   "id": "f5221f21",
   "metadata": {},
   "outputs": [
    {
     "data": {
      "text/plain": [
       "(26967, 11)"
      ]
     },
     "execution_count": 21,
     "metadata": {},
     "output_type": "execute_result"
    }
   ],
   "source": [
    "df.shape"
   ]
  },
  {
   "cell_type": "code",
   "execution_count": 22,
   "id": "e79bdbb1",
   "metadata": {},
   "outputs": [],
   "source": [
    "df.drop('Unnamed: 0',inplace = True,axis = 1)"
   ]
  },
  {
   "cell_type": "code",
   "execution_count": 23,
   "id": "6680dca5",
   "metadata": {},
   "outputs": [
    {
     "data": {
      "text/plain": [
       "Index(['carat', 'cut', 'color', 'clarity', 'depth', 'table', 'x', 'y', 'z',\n",
       "       'price'],\n",
       "      dtype='object')"
      ]
     },
     "execution_count": 23,
     "metadata": {},
     "output_type": "execute_result"
    }
   ],
   "source": [
    "df.columns"
   ]
  },
  {
   "cell_type": "code",
   "execution_count": 24,
   "id": "e9b3fe7c",
   "metadata": {},
   "outputs": [],
   "source": [
    "df.loc[df['x'] == 0,'x'] = df['x'].median()\n",
    "#  Finding cases where "
   ]
  },
  {
   "cell_type": "code",
   "execution_count": 25,
   "id": "02cc01ba",
   "metadata": {},
   "outputs": [],
   "source": [
    "df.loc[df['y'] == 0,'y'] = df['y'].median()\n",
    "df.loc[df['z'] == 0,'z'] = df['z'].median()"
   ]
  },
  {
   "cell_type": "code",
   "execution_count": 26,
   "id": "fdbc1d6d",
   "metadata": {},
   "outputs": [
    {
     "data": {
      "text/plain": [
       "Series([], Name: z, dtype: float64)"
      ]
     },
     "execution_count": 26,
     "metadata": {},
     "output_type": "execute_result"
    }
   ],
   "source": [
    "df.loc[df['z'] == 0,'z']"
   ]
  },
  {
   "cell_type": "code",
   "execution_count": 27,
   "id": "5ffb250f",
   "metadata": {},
   "outputs": [
    {
     "data": {
      "text/plain": [
       "3.52"
      ]
     },
     "execution_count": 27,
     "metadata": {},
     "output_type": "execute_result"
    }
   ],
   "source": [
    "df['z'].median()"
   ]
  },
  {
   "cell_type": "code",
   "execution_count": 28,
   "id": "b076cd60",
   "metadata": {},
   "outputs": [
    {
     "data": {
      "text/html": [
       "<div>\n",
       "<style scoped>\n",
       "    .dataframe tbody tr th:only-of-type {\n",
       "        vertical-align: middle;\n",
       "    }\n",
       "\n",
       "    .dataframe tbody tr th {\n",
       "        vertical-align: top;\n",
       "    }\n",
       "\n",
       "    .dataframe thead th {\n",
       "        text-align: right;\n",
       "    }\n",
       "</style>\n",
       "<table border=\"1\" class=\"dataframe\">\n",
       "  <thead>\n",
       "    <tr style=\"text-align: right;\">\n",
       "      <th></th>\n",
       "      <th>carat</th>\n",
       "      <th>depth</th>\n",
       "      <th>table</th>\n",
       "      <th>x</th>\n",
       "      <th>y</th>\n",
       "      <th>z</th>\n",
       "      <th>price</th>\n",
       "    </tr>\n",
       "  </thead>\n",
       "  <tbody>\n",
       "    <tr>\n",
       "      <th>count</th>\n",
       "      <td>26967.000000</td>\n",
       "      <td>26967.000000</td>\n",
       "      <td>26967.000000</td>\n",
       "      <td>26967.000000</td>\n",
       "      <td>26967.000000</td>\n",
       "      <td>26967.000000</td>\n",
       "      <td>26967.000000</td>\n",
       "    </tr>\n",
       "    <tr>\n",
       "      <th>mean</th>\n",
       "      <td>0.798375</td>\n",
       "      <td>61.746564</td>\n",
       "      <td>57.456080</td>\n",
       "      <td>5.730487</td>\n",
       "      <td>5.734204</td>\n",
       "      <td>3.539232</td>\n",
       "      <td>3939.518115</td>\n",
       "    </tr>\n",
       "    <tr>\n",
       "      <th>std</th>\n",
       "      <td>0.477745</td>\n",
       "      <td>1.394509</td>\n",
       "      <td>2.232068</td>\n",
       "      <td>1.126897</td>\n",
       "      <td>1.164488</td>\n",
       "      <td>0.717718</td>\n",
       "      <td>4024.864666</td>\n",
       "    </tr>\n",
       "    <tr>\n",
       "      <th>min</th>\n",
       "      <td>0.200000</td>\n",
       "      <td>50.800000</td>\n",
       "      <td>49.000000</td>\n",
       "      <td>3.730000</td>\n",
       "      <td>3.710000</td>\n",
       "      <td>1.070000</td>\n",
       "      <td>326.000000</td>\n",
       "    </tr>\n",
       "    <tr>\n",
       "      <th>25%</th>\n",
       "      <td>0.400000</td>\n",
       "      <td>61.100000</td>\n",
       "      <td>56.000000</td>\n",
       "      <td>4.710000</td>\n",
       "      <td>4.720000</td>\n",
       "      <td>2.900000</td>\n",
       "      <td>945.000000</td>\n",
       "    </tr>\n",
       "    <tr>\n",
       "      <th>50%</th>\n",
       "      <td>0.700000</td>\n",
       "      <td>61.800000</td>\n",
       "      <td>57.000000</td>\n",
       "      <td>5.690000</td>\n",
       "      <td>5.710000</td>\n",
       "      <td>3.520000</td>\n",
       "      <td>2375.000000</td>\n",
       "    </tr>\n",
       "    <tr>\n",
       "      <th>75%</th>\n",
       "      <td>1.050000</td>\n",
       "      <td>62.500000</td>\n",
       "      <td>59.000000</td>\n",
       "      <td>6.550000</td>\n",
       "      <td>6.540000</td>\n",
       "      <td>4.040000</td>\n",
       "      <td>5360.000000</td>\n",
       "    </tr>\n",
       "    <tr>\n",
       "      <th>max</th>\n",
       "      <td>4.500000</td>\n",
       "      <td>73.600000</td>\n",
       "      <td>79.000000</td>\n",
       "      <td>10.230000</td>\n",
       "      <td>58.900000</td>\n",
       "      <td>31.800000</td>\n",
       "      <td>18818.000000</td>\n",
       "    </tr>\n",
       "  </tbody>\n",
       "</table>\n",
       "</div>"
      ],
      "text/plain": [
       "              carat         depth         table             x             y  \\\n",
       "count  26967.000000  26967.000000  26967.000000  26967.000000  26967.000000   \n",
       "mean       0.798375     61.746564     57.456080      5.730487      5.734204   \n",
       "std        0.477745      1.394509      2.232068      1.126897      1.164488   \n",
       "min        0.200000     50.800000     49.000000      3.730000      3.710000   \n",
       "25%        0.400000     61.100000     56.000000      4.710000      4.720000   \n",
       "50%        0.700000     61.800000     57.000000      5.690000      5.710000   \n",
       "75%        1.050000     62.500000     59.000000      6.550000      6.540000   \n",
       "max        4.500000     73.600000     79.000000     10.230000     58.900000   \n",
       "\n",
       "                  z         price  \n",
       "count  26967.000000  26967.000000  \n",
       "mean       3.539232   3939.518115  \n",
       "std        0.717718   4024.864666  \n",
       "min        1.070000    326.000000  \n",
       "25%        2.900000    945.000000  \n",
       "50%        3.520000   2375.000000  \n",
       "75%        4.040000   5360.000000  \n",
       "max       31.800000  18818.000000  "
      ]
     },
     "execution_count": 28,
     "metadata": {},
     "output_type": "execute_result"
    }
   ],
   "source": [
    "df.describe()"
   ]
  },
  {
   "attachments": {},
   "cell_type": "markdown",
   "id": "71818215",
   "metadata": {},
   "source": [
    "### EDA "
   ]
  },
  {
   "attachments": {},
   "cell_type": "markdown",
   "id": "777ef1fb",
   "metadata": {},
   "source": [
    "## Carat"
   ]
  },
  {
   "cell_type": "code",
   "execution_count": 29,
   "id": "116c3aaf",
   "metadata": {},
   "outputs": [
    {
     "data": {
      "image/png": "[encoded data removed]",
      "text/plain": [
       "<Figure size 640x480 with 1 Axes>"
      ]
     },
     "metadata": {},
     "output_type": "display_data"
    }
   ],
   "source": [
    "# Univariate analysis\n",
    "import matplotlib.pyplot as plt\n",
    "sns.boxplot(df['carat'])\n",
    "plt.show()"
   ]
  },
  {
   "cell_type": "code",
   "execution_count": 30,
   "id": "9fa9febb",
   "metadata": {},
   "outputs": [
    {
     "data": {
      "text/plain": [
       "79       2.16\n",
       "119      2.02\n",
       "124      2.80\n",
       "135      2.20\n",
       "204      2.01\n",
       "         ... \n",
       "26745    2.01\n",
       "26845    2.23\n",
       "26869    3.24\n",
       "26924    2.03\n",
       "26957    2.09\n",
       "Name: carat, Length: 975, dtype: float64"
      ]
     },
     "execution_count": 30,
     "metadata": {},
     "output_type": "execute_result"
    }
   ],
   "source": [
    "df.loc[df['carat'] > 2,'carat']\n",
    "# There are 975 outliers present in carat Nope further analyse"
   ]
  },
  {
   "cell_type": "code",
   "execution_count": 31,
   "id": "87b71b8e",
   "metadata": {},
   "outputs": [
    {
     "data": {
      "text/plain": [
       "0.4"
      ]
     },
     "execution_count": 31,
     "metadata": {},
     "output_type": "execute_result"
    }
   ],
   "source": [
    "Q1 = df['carat'].quantile(0.25)\n",
    "Q1"
   ]
  },
  {
   "cell_type": "code",
   "execution_count": 32,
   "id": "fefe0d4e",
   "metadata": {},
   "outputs": [
    {
     "data": {
      "text/plain": [
       "1.05"
      ]
     },
     "execution_count": 32,
     "metadata": {},
     "output_type": "execute_result"
    }
   ],
   "source": [
    "Q3 = df['carat'].quantile(0.75)\n",
    "Q3"
   ]
  },
  {
   "cell_type": "code",
   "execution_count": 33,
   "id": "b339e1d6",
   "metadata": {},
   "outputs": [],
   "source": [
    "IQR  = Q3 - Q1\n",
    "lower_range = Q1 - 1.5 * IQR\n",
    "upper_range = Q3 + 1.5 * IQR"
   ]
  },
  {
   "cell_type": "code",
   "execution_count": 34,
   "id": "0cac308f",
   "metadata": {},
   "outputs": [
    {
     "name": "stdout",
     "output_type": "stream",
     "text": [
      "-0.5750000000000001\n",
      "2.0250000000000004\n"
     ]
    }
   ],
   "source": [
    "print(lower_range)\n",
    "print(upper_range)"
   ]
  },
  {
   "cell_type": "code",
   "execution_count": 35,
   "id": "8b1d33df",
   "metadata": {},
   "outputs": [
    {
     "data": {
      "text/plain": [
       "Series([], Name: carat, dtype: float64)"
      ]
     },
     "execution_count": 35,
     "metadata": {},
     "output_type": "execute_result"
    }
   ],
   "source": [
    "df.loc[df['carat'] < lower_range,'carat']"
   ]
  },
  {
   "cell_type": "code",
   "execution_count": 48,
   "id": "bcb953f7",
   "metadata": {},
   "outputs": [
    {
     "data": {
      "text/plain": [
       "26967"
      ]
     },
     "execution_count": 48,
     "metadata": {},
     "output_type": "execute_result"
    }
   ],
   "source": [
    "df.loc[df['carat'] > upper_range,'carat']\n",
    "# 662 are outliers\n"
   ]
  },
  {
   "cell_type": "code",
   "execution_count": 49,
   "id": "1776f623",
   "metadata": {},
   "outputs": [
    {
     "data": {
      "text/plain": [
       "2.454852226795713"
      ]
     },
     "execution_count": 49,
     "metadata": {},
     "output_type": "execute_result"
    }
   ],
   "source": [
    "662 / df['carat'].size * 100\n",
    "# around 2 percent of the data are outliers"
   ]
  },
  {
   "cell_type": "code",
   "execution_count": 39,
   "id": "34845514",
   "metadata": {},
   "outputs": [],
   "source": [
    "\n",
    "# Find out the percentage of outliers in the dataset per column\n",
    "#  Create a function too automate it and then loop through the entire list of columns\n",
    "# Decide whether to impute or have a ceiling in this case celing would be prefereed as the number \n",
    "# of data points are very less for eg 200 M data points then 5 % removing allowed  but incase of 400 \n",
    "# data points even 5 % is too much\n",
    "# Celing should be used "
   ]
  },
  {
   "cell_type": "code",
   "execution_count": 44,
   "id": "a0667d51",
   "metadata": {},
   "outputs": [
    {
     "data": {
      "text/plain": [
       "<matplotlib.collections.PathCollection at 0x29a90ccfed0>"
      ]
     },
     "execution_count": 44,
     "metadata": {},
     "output_type": "execute_result"
    },
    {
     "data": {
      "image/png": "[encoded data removed]",
      "text/plain": [
       "<Figure size 640x480 with 1 Axes>"
      ]
     },
     "metadata": {},
     "output_type": "display_data"
    }
   ],
   "source": [
    "plt.scatter(df['carat'],df['price'])"
   ]
  },
  {
   "cell_type": "code",
   "execution_count": 45,
   "id": "c7993fc0",
   "metadata": {},
   "outputs": [],
   "source": [
    "# Ways to find the outliers boxplot IQR Scatter , Z-Score"
   ]
  },
  {
   "cell_type": "code",
   "execution_count": 46,
   "id": "65acdd60",
   "metadata": {},
   "outputs": [],
   "source": [
    "from scipy import stats\n",
    "import numpy as np"
   ]
  },
  {
   "cell_type": "code",
   "execution_count": 47,
   "id": "15731bb8",
   "metadata": {},
   "outputs": [
    {
     "name": "stdout",
     "output_type": "stream",
     "text": [
      "(array([  124,   283,   409,   413,   459,   669,   770,   798,   951,\n",
      "        1072,  1087,  1350,  1398,  1468,  1517,  1744,  1946,  2075,\n",
      "        2078,  2210,  2384,  2466,  2784,  2907,  3025,  3082,  3194,\n",
      "        3248,  3372,  3390,  3511,  3631,  3672,  3763,  3859,  4072,\n",
      "        4135,  4184,  4649,  4696,  4743,  4884,  4900,  5045,  5323,\n",
      "        5402,  5582,  5593,  5800,  6011,  6358,  6396,  6531,  6845,\n",
      "        7033,  7364,  7529,  7878,  8000,  8087,  8156,  8165,  8205,\n",
      "        8304,  8573,  8708,  8772,  9151,  9280,  9282,  9392,  9469,\n",
      "        9625,  9637,  9674,  9751,  9899,  9968, 10208, 10422, 10434,\n",
      "       10504, 10519, 10659, 10667, 10736, 10906, 11149, 11515, 11615,\n",
      "       11943, 12112, 12411, 12500, 12555, 12631, 12758, 12810, 13052,\n",
      "       13081, 13145, 13324, 13532, 13754, 13944, 13967, 14009, 14134,\n",
      "       14142, 14320, 14417, 14444, 14456, 14462, 14677, 14967, 15080,\n",
      "       15488, 15502, 15505, 15695, 15757, 16206, 16208, 16319, 16362,\n",
      "       16425, 16538, 16628, 16872, 17076, 17348, 17547, 17702, 17858,\n",
      "       17946, 17954, 18104, 18263, 18767, 19013, 19083, 19143, 19271,\n",
      "       19466, 19758, 19761, 19764, 19847, 20179, 20505, 20510, 20551,\n",
      "       20621, 20628, 20695, 20931, 21016, 21068, 21359, 21569, 22017,\n",
      "       22097, 22137, 22265, 22392, 22488, 22577, 22588, 22613, 22799,\n",
      "       22801, 22954, 23029, 23122, 23352, 23408, 23458, 23614, 23618,\n",
      "       23814, 24125, 24351, 24645, 24761, 24782, 24784, 24952, 25368,\n",
      "       25389, 25423, 25455, 25570, 25733, 26061, 26171, 26191, 26235,\n",
      "       26245, 26284, 26330, 26869], dtype=int64),)\n"
     ]
    }
   ],
   "source": [
    "z  = np.abs(stats.zscore(df['carat']))\n",
    "threshold = 3 \n",
    "print(np.where(z >3))"
   ]
  },
  {
   "cell_type": "code",
   "execution_count": 50,
   "id": "141d562d",
   "metadata": {},
   "outputs": [
    {
     "data": {
      "text/plain": [
       "2.0250000000000004"
      ]
     },
     "execution_count": 50,
     "metadata": {},
     "output_type": "execute_result"
    }
   ],
   "source": [
    "upper_range"
   ]
  },
  {
   "cell_type": "code",
   "execution_count": 53,
   "id": "701f2bce",
   "metadata": {},
   "outputs": [
    {
     "name": "stdout",
     "output_type": "stream",
     "text": [
      "90% quantile 1.51\n",
      "95% quantile 1.71\n",
      "97.5% quantile 2.02\n",
      "99% quantile 2.18\n",
      "99.9% quantile 2.66\n"
     ]
    }
   ],
   "source": [
    "#  Exploring different Quantiles at the upper End Since lower end does not have any outliers\n",
    "print('90% quantile',df['carat'].quantile(0.90)) #1.51\n",
    "print('95% quantile',df['carat'].quantile(0.95)) # 1.71\n",
    "print('97.5% quantile',df['carat'].quantile(0.975)) # 2.02\n",
    "print('99% quantile',df['carat'].quantile(0.99)) # 2.18 \n",
    "print('99.9% quantile',df['carat'].quantile(0.999)) # 2.66"
   ]
  },
  {
   "cell_type": "code",
   "execution_count": 54,
   "id": "c51ee42e",
   "metadata": {},
   "outputs": [
    {
     "data": {
      "text/plain": [
       "Index(['carat', 'cut', 'color', 'clarity', 'depth', 'table', 'x', 'y', 'z',\n",
       "       'price'],\n",
       "      dtype='object')"
      ]
     },
     "execution_count": 54,
     "metadata": {},
     "output_type": "execute_result"
    }
   ],
   "source": [
    "#  97.5 is the closest to the upper bound as such the value will we used to winorize the dataset\n",
    "\n",
    "# Creating  a copy \n",
    "df_win = df.copy(deep=True)\n",
    "df_win.columns"
   ]
  },
  {
   "cell_type": "code",
   "execution_count": 59,
   "id": "e2f34cf9",
   "metadata": {},
   "outputs": [],
   "source": [
    "from scipy.stats.mstats import winsorize\n",
    "df_win['carat'] = winsorize(df_win['carat'],limits=[0,0.025])\n",
    "#  limit  here means lowest 0 value to be winosorized and the highest 97.5 to be winosorized"
   ]
  },
  {
   "cell_type": "code",
   "execution_count": 60,
   "id": "a757bdf0",
   "metadata": {},
   "outputs": [
    {
     "name": "stdout",
     "output_type": "stream",
     "text": [
      "0.7983754218118442\n",
      "0.7934701672414431\n"
     ]
    }
   ],
   "source": [
    "print(df['carat'].mean())\n",
    "print(df_win['carat'].mean())"
   ]
  },
  {
   "cell_type": "code",
   "execution_count": 65,
   "id": "09496cd0",
   "metadata": {},
   "outputs": [
    {
     "name": "stderr",
     "output_type": "stream",
     "text": [
      "C:\\Users\\SAM\\AppData\\Local\\Temp\\ipykernel_25608\\3806771758.py:2: UserWarning: \n",
      "\n",
      "`distplot` is a deprecated function and will be removed in seaborn v0.14.0.\n",
      "\n",
      "Please adapt your code to use either `displot` (a figure-level function with\n",
      "similar flexibility) or `histplot` (an axes-level function for histograms).\n",
      "\n",
      "For a guide to updating your code to use the new functions, please see\n",
      "https://gist.github.com/mwaskom/de44147ed2974457ad6372750bbe5751\n",
      "\n",
      "  sns.distplot(df_win['carat'])\n"
     ]
    },
    {
     "data": {
      "image/png": "[encoded data removed]",
      "text/plain": [
       "<Figure size 640x480 with 1 Axes>"
      ]
     },
     "metadata": {},
     "output_type": "display_data"
    }
   ],
   "source": [
    "#  Now checking the outliers\n",
    "sns.distplot(df_win['carat'])\n",
    "plt.show()"
   ]
  },
  {
   "cell_type": "code",
   "execution_count": 66,
   "id": "20a76048",
   "metadata": {},
   "outputs": [
    {
     "name": "stderr",
     "output_type": "stream",
     "text": [
      "C:\\Users\\SAM\\AppData\\Local\\Temp\\ipykernel_25608\\3934730443.py:1: UserWarning: \n",
      "\n",
      "`distplot` is a deprecated function and will be removed in seaborn v0.14.0.\n",
      "\n",
      "Please adapt your code to use either `displot` (a figure-level function with\n",
      "similar flexibility) or `histplot` (an axes-level function for histograms).\n",
      "\n",
      "For a guide to updating your code to use the new functions, please see\n",
      "https://gist.github.com/mwaskom/de44147ed2974457ad6372750bbe5751\n",
      "\n",
      "  sns.distplot(df['carat'])\n"
     ]
    },
    {
     "data": {
      "image/png": "[encoded data removed]",
      "text/plain": [
       "<Figure size 640x480 with 1 Axes>"
      ]
     },
     "metadata": {},
     "output_type": "display_data"
    }
   ],
   "source": [
    "sns.distplot(df['carat'])\n",
    "plt.show()"
   ]
  },
  {
   "cell_type": "code",
   "execution_count": 67,
   "id": "a915b810",
   "metadata": {},
   "outputs": [
    {
     "data": {
      "image/png": "[encoded data removed]",
      "text/plain": [
       "<Figure size 640x480 with 1 Axes>"
      ]
     },
     "metadata": {},
     "output_type": "display_data"
    }
   ],
   "source": [
    "#  Now checking the outliers\n",
    "sns.boxplot(df_win['carat'])\n",
    "plt.show()"
   ]
  },
  {
   "cell_type": "code",
   "execution_count": 68,
   "id": "511d414b",
   "metadata": {},
   "outputs": [
    {
     "data": {
      "image/png": "[encoded data removed]",
      "text/plain": [
       "<Figure size 640x480 with 1 Axes>"
      ]
     },
     "metadata": {},
     "output_type": "display_data"
    }
   ],
   "source": [
    "sns.boxplot(df['carat'])\n",
    "plt.show()"
   ]
  },
  {
   "cell_type": "code",
   "execution_count": null,
   "id": "d4037726",
   "metadata": {},
   "outputs": [],
   "source": []
  }
 ],
 "metadata": {
  "kernelspec": {
   "display_name": "Python 3 (ipykernel)",
   "language": "python",
   "name": "python3"
  },
  "language_info": {
   "codemirror_mode": {
    "name": "ipython",
    "version": 3
   },
   "file_extension": ".py",
   "mimetype": "text/x-python",
   "name": "python",
   "nbconvert_exporter": "python",
   "pygments_lexer": "ipython3",
   "version": "3.11.1"
  }
 },
 "nbformat": 4,
 "nbformat_minor": 5
}
