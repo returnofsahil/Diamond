{
 "cells": [
  {
   "cell_type": "code",
   "execution_count": 2,
   "id": "f7043571",
   "metadata": {},
   "outputs": [
    {
     "name": "stdout",
     "output_type": "stream",
     "text": [
      "0\n",
      "1\n",
      "2\n",
      "3\n",
      "4\n"
     ]
    },
    {
     "data": {
      "text/plain": [
       "[None, None, None, None, None]"
      ]
     },
     "execution_count": 2,
     "metadata": {},
     "output_type": "execute_result"
    }
   ],
   "source": [
    "[print(i) for i in range(0,5)]"
   ]
  },
  {
   "cell_type": "markdown",
   "id": "5636f835",
   "metadata": {},
   "source": [
    "### numpy"
   ]
  },
  {
   "cell_type": "code",
   "execution_count": 5,
   "id": "c3f8d09c",
   "metadata": {},
   "outputs": [],
   "source": [
    "import pandas as pd\n",
    "import numpy as np"
   ]
  },
  {
   "cell_type": "code",
   "execution_count": 6,
   "id": "2dbc7603",
   "metadata": {},
   "outputs": [
    {
     "data": {
      "text/plain": [
       "array([[1, 5, 7],\n",
       "       [3, 5, 9]])"
      ]
     },
     "execution_count": 6,
     "metadata": {},
     "output_type": "execute_result"
    }
   ],
   "source": [
    "a = np.array([[1,5,7],[3,5,9]])\n",
    "a"
   ]
  },
  {
   "cell_type": "code",
   "execution_count": 7,
   "id": "a7e2eee1",
   "metadata": {},
   "outputs": [
    {
     "data": {
      "text/plain": [
       "array([3, 5, 9])"
      ]
     },
     "execution_count": 7,
     "metadata": {},
     "output_type": "execute_result"
    }
   ],
   "source": [
    "a[1]"
   ]
  },
  {
   "cell_type": "code",
   "execution_count": 19,
   "id": "df976f49",
   "metadata": {},
   "outputs": [
    {
     "data": {
      "text/plain": [
       "array([[1, 5]])"
      ]
     },
     "execution_count": 19,
     "metadata": {},
     "output_type": "execute_result"
    }
   ],
   "source": [
    "a[0:1,0:2]"
   ]
  },
  {
   "cell_type": "code",
   "execution_count": 20,
   "id": "8290d12c",
   "metadata": {},
   "outputs": [
    {
     "data": {
      "text/plain": [
       "9"
      ]
     },
     "execution_count": 20,
     "metadata": {},
     "output_type": "execute_result"
    }
   ],
   "source": [
    "a[1][2]"
   ]
  },
  {
   "cell_type": "code",
   "execution_count": 29,
   "id": "f773aebe",
   "metadata": {},
   "outputs": [
    {
     "data": {
      "text/plain": [
       "array([7, 9])"
      ]
     },
     "execution_count": 29,
     "metadata": {},
     "output_type": "execute_result"
    }
   ],
   "source": [
    "a[0:2,2]"
   ]
  },
  {
   "cell_type": "code",
   "execution_count": 32,
   "id": "4d7e1061",
   "metadata": {},
   "outputs": [
    {
     "data": {
      "text/plain": [
       "array([7, 9])"
      ]
     },
     "execution_count": 32,
     "metadata": {},
     "output_type": "execute_result"
    }
   ],
   "source": [
    "a[0:2,2]"
   ]
  },
  {
   "cell_type": "code",
   "execution_count": 43,
   "id": "23a937eb",
   "metadata": {},
   "outputs": [
    {
     "data": {
      "text/plain": [
       "array([[5, 7],\n",
       "       [5, 9]])"
      ]
     },
     "execution_count": 43,
     "metadata": {},
     "output_type": "execute_result"
    }
   ],
   "source": [
    "a[0:2,1:3]"
   ]
  },
  {
   "cell_type": "code",
   "execution_count": 44,
   "id": "80207cb3",
   "metadata": {},
   "outputs": [
    {
     "data": {
      "text/plain": [
       "9"
      ]
     },
     "execution_count": 44,
     "metadata": {},
     "output_type": "execute_result"
    }
   ],
   "source": [
    "np.max(a)"
   ]
  },
  {
   "cell_type": "code",
   "execution_count": 45,
   "id": "bae34732",
   "metadata": {},
   "outputs": [
    {
     "data": {
      "text/plain": [
       "1"
      ]
     },
     "execution_count": 45,
     "metadata": {},
     "output_type": "execute_result"
    }
   ],
   "source": [
    "np.min(a)"
   ]
  },
  {
   "cell_type": "code",
   "execution_count": 72,
   "id": "49c130c3",
   "metadata": {},
   "outputs": [],
   "source": [
    "arr = [0,1,2]* 4"
   ]
  },
  {
   "cell_type": "code",
   "execution_count": 73,
   "id": "652c43db",
   "metadata": {},
   "outputs": [],
   "source": [
    "num_o = np.array(arr)"
   ]
  },
  {
   "cell_type": "code",
   "execution_count": 80,
   "id": "5a317c89",
   "metadata": {},
   "outputs": [],
   "source": [
    "num_o = num_o.reshape(2,3,2)"
   ]
  },
  {
   "cell_type": "code",
   "execution_count": 81,
   "id": "a829204a",
   "metadata": {},
   "outputs": [
    {
     "data": {
      "text/plain": [
       "3"
      ]
     },
     "execution_count": 81,
     "metadata": {},
     "output_type": "execute_result"
    }
   ],
   "source": [
    "num_o.ndim"
   ]
  },
  {
   "cell_type": "code",
   "execution_count": 82,
   "id": "73c0bce0",
   "metadata": {},
   "outputs": [
    {
     "data": {
      "text/plain": [
       "array([[[0, 1],\n",
       "        [2, 0],\n",
       "        [1, 2]],\n",
       "\n",
       "       [[0, 1],\n",
       "        [2, 0],\n",
       "        [1, 2]]])"
      ]
     },
     "execution_count": 82,
     "metadata": {},
     "output_type": "execute_result"
    }
   ],
   "source": [
    "num_o"
   ]
  },
  {
   "cell_type": "code",
   "execution_count": 83,
   "id": "e41701cc",
   "metadata": {},
   "outputs": [
    {
     "data": {
      "text/plain": [
       "0"
      ]
     },
     "execution_count": 83,
     "metadata": {},
     "output_type": "execute_result"
    }
   ],
   "source": [
    "num_o.min()"
   ]
  },
  {
   "cell_type": "code",
   "execution_count": 84,
   "id": "d0fddbb5",
   "metadata": {},
   "outputs": [
    {
     "data": {
      "text/plain": [
       "2"
      ]
     },
     "execution_count": 84,
     "metadata": {},
     "output_type": "execute_result"
    }
   ],
   "source": [
    "num_o.max()"
   ]
  },
  {
   "cell_type": "code",
   "execution_count": 86,
   "id": "5914dc95",
   "metadata": {},
   "outputs": [
    {
     "data": {
      "text/plain": [
       "array([[[0, 0],\n",
       "        [2, 2],\n",
       "        [1, 1]],\n",
       "\n",
       "       [[1, 1],\n",
       "        [0, 0],\n",
       "        [2, 2]]])"
      ]
     },
     "execution_count": 86,
     "metadata": {},
     "output_type": "execute_result"
    }
   ],
   "source": [
    "num_o.T"
   ]
  },
  {
   "cell_type": "code",
   "execution_count": 91,
   "id": "060f2cd6",
   "metadata": {},
   "outputs": [],
   "source": [
    "num_o = num_o.reshape(2,6)"
   ]
  },
  {
   "cell_type": "code",
   "execution_count": 92,
   "id": "e420a5d5",
   "metadata": {},
   "outputs": [
    {
     "data": {
      "text/plain": [
       "matrix([[0, 1, 2, 0, 1, 2],\n",
       "        [0, 1, 2, 0, 1, 2]])"
      ]
     },
     "execution_count": 92,
     "metadata": {},
     "output_type": "execute_result"
    }
   ],
   "source": [
    "np.matrix(num_o)"
   ]
  },
  {
   "cell_type": "code",
   "execution_count": 93,
   "id": "3701e8f4",
   "metadata": {},
   "outputs": [
    {
     "data": {
      "text/plain": [
       "array([[0, 1, 2, 0, 1, 2],\n",
       "       [0, 1, 2, 0, 1, 2]])"
      ]
     },
     "execution_count": 93,
     "metadata": {},
     "output_type": "execute_result"
    }
   ],
   "source": [
    "num_o"
   ]
  },
  {
   "cell_type": "code",
   "execution_count": 96,
   "id": "5a03eb9a",
   "metadata": {},
   "outputs": [],
   "source": [
    "num_zeros = np.zeros(20).reshape(5,4)"
   ]
  },
  {
   "cell_type": "code",
   "execution_count": 97,
   "id": "cd0b7a92",
   "metadata": {},
   "outputs": [
    {
     "ename": "ValueError",
     "evalue": "operands could not be broadcast together with shapes (2,6) (5,4) ",
     "output_type": "error",
     "traceback": [
      "\u001b[1;31m---------------------------------------------------------------------------\u001b[0m",
      "\u001b[1;31mValueError\u001b[0m                                Traceback (most recent call last)",
      "Cell \u001b[1;32mIn[97], line 1\u001b[0m\n\u001b[1;32m----> 1\u001b[0m \u001b[43mnp\u001b[49m\u001b[38;5;241;43m.\u001b[39;49m\u001b[43mmultiply\u001b[49m\u001b[43m(\u001b[49m\u001b[43mnum_o\u001b[49m\u001b[43m,\u001b[49m\u001b[43mnum_zeros\u001b[49m\u001b[43m)\u001b[49m\n",
      "\u001b[1;31mValueError\u001b[0m: operands could not be broadcast together with shapes (2,6) (5,4) "
     ]
    }
   ],
   "source": [
    "np.multiply(num_o,num_zeros)"
   ]
  },
  {
   "cell_type": "code",
   "execution_count": 100,
   "id": "de0475a0",
   "metadata": {},
   "outputs": [],
   "source": [
    "d5=np.zeros(64).reshape(2,2,2,2,2,2)"
   ]
  },
  {
   "cell_type": "code",
   "execution_count": 102,
   "id": "0a07a90a",
   "metadata": {},
   "outputs": [
    {
     "data": {
      "text/plain": [
       "array([0., 0., 0., 0.])"
      ]
     },
     "execution_count": 102,
     "metadata": {},
     "output_type": "execute_result"
    }
   ],
   "source": [
    "np.diagonal(num_zeros)"
   ]
  },
  {
   "cell_type": "markdown",
   "id": "08fcb10d",
   "metadata": {},
   "source": [
    "### OOPS"
   ]
  },
  {
   "cell_type": "code",
   "execution_count": 103,
   "id": "095f5ef5",
   "metadata": {},
   "outputs": [
    {
     "data": {
      "text/plain": [
       "(2, 2, 2, 2, 2, 2)"
      ]
     },
     "execution_count": 103,
     "metadata": {},
     "output_type": "execute_result"
    }
   ],
   "source": [
    "d5.shape"
   ]
  },
  {
   "cell_type": "code",
   "execution_count": 120,
   "id": "7add3b8e",
   "metadata": {},
   "outputs": [],
   "source": [
    "class Calculator:\n",
    "    \n",
    "    def __init__(self,num_1:float,num_2:float):\n",
    "        \n",
    "        self.num_1 = num_1\n",
    "        self.num_2 = num_2\n",
    "    def add(self):\n",
    "        return self.num_1 + self.num_2\n",
    "    def sub(self):\n",
    "        return self.num_1 - self.num_2\n",
    "    def mult(self):\n",
    "        return self.num_1 * self.num_2 \n",
    "    def div(self):\n",
    "        return self.num_1 / self.num_2"
   ]
  },
  {
   "cell_type": "code",
   "execution_count": 121,
   "id": "0aa62c61",
   "metadata": {},
   "outputs": [],
   "source": [
    "Cal =  Calculator(1,2)"
   ]
  },
  {
   "cell_type": "code",
   "execution_count": 119,
   "id": "7bedc7be",
   "metadata": {},
   "outputs": [
    {
     "data": {
      "text/plain": [
       "3"
      ]
     },
     "execution_count": 119,
     "metadata": {},
     "output_type": "execute_result"
    }
   ],
   "source": [
    "Cal.add()"
   ]
  },
  {
   "cell_type": "code",
   "execution_count": 124,
   "id": "8dd5d9f4",
   "metadata": {},
   "outputs": [],
   "source": [
    "cal_2 = Calculator('rre','dsd')"
   ]
  },
  {
   "cell_type": "code",
   "execution_count": 126,
   "id": "4bbdf961",
   "metadata": {},
   "outputs": [
    {
     "data": {
      "text/plain": [
       "str"
      ]
     },
     "execution_count": 126,
     "metadata": {},
     "output_type": "execute_result"
    }
   ],
   "source": [
    "type(cal_2.num_1)"
   ]
  },
  {
   "cell_type": "markdown",
   "id": "6688d7e6",
   "metadata": {},
   "source": [
    "### pandas\n"
   ]
  },
  {
   "cell_type": "code",
   "execution_count": 127,
   "id": "8b0e6a54",
   "metadata": {},
   "outputs": [],
   "source": [
    "import pandas as pd"
   ]
  },
  {
   "cell_type": "code",
   "execution_count": 129,
   "id": "25439386",
   "metadata": {},
   "outputs": [],
   "source": [
    "df = pd.read_csv('cubic_zirconia.csv')"
   ]
  },
  {
   "cell_type": "code",
   "execution_count": 130,
   "id": "05764de7",
   "metadata": {},
   "outputs": [
    {
     "data": {
      "text/html": [
       "<div>\n",
       "<style scoped>\n",
       "    .dataframe tbody tr th:only-of-type {\n",
       "        vertical-align: middle;\n",
       "    }\n",
       "\n",
       "    .dataframe tbody tr th {\n",
       "        vertical-align: top;\n",
       "    }\n",
       "\n",
       "    .dataframe thead th {\n",
       "        text-align: right;\n",
       "    }\n",
       "</style>\n",
       "<table border=\"1\" class=\"dataframe\">\n",
       "  <thead>\n",
       "    <tr style=\"text-align: right;\">\n",
       "      <th></th>\n",
       "      <th>Unnamed: 0</th>\n",
       "      <th>carat</th>\n",
       "      <th>cut</th>\n",
       "      <th>color</th>\n",
       "      <th>clarity</th>\n",
       "      <th>depth</th>\n",
       "      <th>table</th>\n",
       "      <th>x</th>\n",
       "      <th>y</th>\n",
       "      <th>z</th>\n",
       "      <th>price</th>\n",
       "    </tr>\n",
       "  </thead>\n",
       "  <tbody>\n",
       "    <tr>\n",
       "      <th>0</th>\n",
       "      <td>1</td>\n",
       "      <td>0.30</td>\n",
       "      <td>Ideal</td>\n",
       "      <td>E</td>\n",
       "      <td>SI1</td>\n",
       "      <td>62.1</td>\n",
       "      <td>58.0</td>\n",
       "      <td>4.27</td>\n",
       "      <td>4.29</td>\n",
       "      <td>2.66</td>\n",
       "      <td>499</td>\n",
       "    </tr>\n",
       "    <tr>\n",
       "      <th>1</th>\n",
       "      <td>2</td>\n",
       "      <td>0.33</td>\n",
       "      <td>Premium</td>\n",
       "      <td>G</td>\n",
       "      <td>IF</td>\n",
       "      <td>60.8</td>\n",
       "      <td>58.0</td>\n",
       "      <td>4.42</td>\n",
       "      <td>4.46</td>\n",
       "      <td>2.70</td>\n",
       "      <td>984</td>\n",
       "    </tr>\n",
       "    <tr>\n",
       "      <th>2</th>\n",
       "      <td>3</td>\n",
       "      <td>0.90</td>\n",
       "      <td>Very Good</td>\n",
       "      <td>E</td>\n",
       "      <td>VVS2</td>\n",
       "      <td>62.2</td>\n",
       "      <td>60.0</td>\n",
       "      <td>6.04</td>\n",
       "      <td>6.12</td>\n",
       "      <td>3.78</td>\n",
       "      <td>6289</td>\n",
       "    </tr>\n",
       "    <tr>\n",
       "      <th>3</th>\n",
       "      <td>4</td>\n",
       "      <td>0.42</td>\n",
       "      <td>Ideal</td>\n",
       "      <td>F</td>\n",
       "      <td>VS1</td>\n",
       "      <td>61.6</td>\n",
       "      <td>56.0</td>\n",
       "      <td>4.82</td>\n",
       "      <td>4.80</td>\n",
       "      <td>2.96</td>\n",
       "      <td>1082</td>\n",
       "    </tr>\n",
       "    <tr>\n",
       "      <th>4</th>\n",
       "      <td>5</td>\n",
       "      <td>0.31</td>\n",
       "      <td>Ideal</td>\n",
       "      <td>F</td>\n",
       "      <td>VVS1</td>\n",
       "      <td>60.4</td>\n",
       "      <td>59.0</td>\n",
       "      <td>4.35</td>\n",
       "      <td>4.43</td>\n",
       "      <td>2.65</td>\n",
       "      <td>779</td>\n",
       "    </tr>\n",
       "  </tbody>\n",
       "</table>\n",
       "</div>"
      ],
      "text/plain": [
       "   Unnamed: 0  carat        cut color clarity  depth  table     x     y     z  \\\n",
       "0           1   0.30      Ideal     E     SI1   62.1   58.0  4.27  4.29  2.66   \n",
       "1           2   0.33    Premium     G      IF   60.8   58.0  4.42  4.46  2.70   \n",
       "2           3   0.90  Very Good     E    VVS2   62.2   60.0  6.04  6.12  3.78   \n",
       "3           4   0.42      Ideal     F     VS1   61.6   56.0  4.82  4.80  2.96   \n",
       "4           5   0.31      Ideal     F    VVS1   60.4   59.0  4.35  4.43  2.65   \n",
       "\n",
       "   price  \n",
       "0    499  \n",
       "1    984  \n",
       "2   6289  \n",
       "3   1082  \n",
       "4    779  "
      ]
     },
     "execution_count": 130,
     "metadata": {},
     "output_type": "execute_result"
    }
   ],
   "source": [
    "df.head()"
   ]
  },
  {
   "cell_type": "code",
   "execution_count": 160,
   "id": "ebfafa43",
   "metadata": {},
   "outputs": [
    {
     "data": {
      "text/html": [
       "<div>\n",
       "<style scoped>\n",
       "    .dataframe tbody tr th:only-of-type {\n",
       "        vertical-align: middle;\n",
       "    }\n",
       "\n",
       "    .dataframe tbody tr th {\n",
       "        vertical-align: top;\n",
       "    }\n",
       "\n",
       "    .dataframe thead th {\n",
       "        text-align: right;\n",
       "    }\n",
       "</style>\n",
       "<table border=\"1\" class=\"dataframe\">\n",
       "  <thead>\n",
       "    <tr style=\"text-align: right;\">\n",
       "      <th></th>\n",
       "      <th>count</th>\n",
       "      <th>mean</th>\n",
       "      <th>std</th>\n",
       "      <th>min</th>\n",
       "      <th>25%</th>\n",
       "      <th>50%</th>\n",
       "      <th>75%</th>\n",
       "      <th>max</th>\n",
       "    </tr>\n",
       "  </thead>\n",
       "  <tbody>\n",
       "    <tr>\n",
       "      <th>Unnamed: 0</th>\n",
       "      <td>26967.0</td>\n",
       "      <td>13484.000000</td>\n",
       "      <td>7784.846691</td>\n",
       "      <td>1.0</td>\n",
       "      <td>6742.50</td>\n",
       "      <td>13484.00</td>\n",
       "      <td>20225.50</td>\n",
       "      <td>26967.00</td>\n",
       "    </tr>\n",
       "    <tr>\n",
       "      <th>carat</th>\n",
       "      <td>26967.0</td>\n",
       "      <td>0.798375</td>\n",
       "      <td>0.477745</td>\n",
       "      <td>0.2</td>\n",
       "      <td>0.40</td>\n",
       "      <td>0.70</td>\n",
       "      <td>1.05</td>\n",
       "      <td>4.50</td>\n",
       "    </tr>\n",
       "    <tr>\n",
       "      <th>depth</th>\n",
       "      <td>26270.0</td>\n",
       "      <td>61.745147</td>\n",
       "      <td>1.412860</td>\n",
       "      <td>50.8</td>\n",
       "      <td>61.00</td>\n",
       "      <td>61.80</td>\n",
       "      <td>62.50</td>\n",
       "      <td>73.60</td>\n",
       "    </tr>\n",
       "    <tr>\n",
       "      <th>table</th>\n",
       "      <td>26967.0</td>\n",
       "      <td>57.456080</td>\n",
       "      <td>2.232068</td>\n",
       "      <td>49.0</td>\n",
       "      <td>56.00</td>\n",
       "      <td>57.00</td>\n",
       "      <td>59.00</td>\n",
       "      <td>79.00</td>\n",
       "    </tr>\n",
       "    <tr>\n",
       "      <th>x</th>\n",
       "      <td>26967.0</td>\n",
       "      <td>5.729854</td>\n",
       "      <td>1.128516</td>\n",
       "      <td>0.0</td>\n",
       "      <td>4.71</td>\n",
       "      <td>5.69</td>\n",
       "      <td>6.55</td>\n",
       "      <td>10.23</td>\n",
       "    </tr>\n",
       "    <tr>\n",
       "      <th>y</th>\n",
       "      <td>26967.0</td>\n",
       "      <td>5.733569</td>\n",
       "      <td>1.166058</td>\n",
       "      <td>0.0</td>\n",
       "      <td>4.71</td>\n",
       "      <td>5.71</td>\n",
       "      <td>6.54</td>\n",
       "      <td>58.90</td>\n",
       "    </tr>\n",
       "    <tr>\n",
       "      <th>z</th>\n",
       "      <td>26967.0</td>\n",
       "      <td>3.538057</td>\n",
       "      <td>0.720624</td>\n",
       "      <td>0.0</td>\n",
       "      <td>2.90</td>\n",
       "      <td>3.52</td>\n",
       "      <td>4.04</td>\n",
       "      <td>31.80</td>\n",
       "    </tr>\n",
       "    <tr>\n",
       "      <th>price</th>\n",
       "      <td>26967.0</td>\n",
       "      <td>3939.518115</td>\n",
       "      <td>4024.864666</td>\n",
       "      <td>326.0</td>\n",
       "      <td>945.00</td>\n",
       "      <td>2375.00</td>\n",
       "      <td>5360.00</td>\n",
       "      <td>18818.00</td>\n",
       "    </tr>\n",
       "  </tbody>\n",
       "</table>\n",
       "</div>"
      ],
      "text/plain": [
       "              count          mean          std    min      25%       50%  \\\n",
       "Unnamed: 0  26967.0  13484.000000  7784.846691    1.0  6742.50  13484.00   \n",
       "carat       26967.0      0.798375     0.477745    0.2     0.40      0.70   \n",
       "depth       26270.0     61.745147     1.412860   50.8    61.00     61.80   \n",
       "table       26967.0     57.456080     2.232068   49.0    56.00     57.00   \n",
       "x           26967.0      5.729854     1.128516    0.0     4.71      5.69   \n",
       "y           26967.0      5.733569     1.166058    0.0     4.71      5.71   \n",
       "z           26967.0      3.538057     0.720624    0.0     2.90      3.52   \n",
       "price       26967.0   3939.518115  4024.864666  326.0   945.00   2375.00   \n",
       "\n",
       "                 75%       max  \n",
       "Unnamed: 0  20225.50  26967.00  \n",
       "carat           1.05      4.50  \n",
       "depth          62.50     73.60  \n",
       "table          59.00     79.00  \n",
       "x               6.55     10.23  \n",
       "y               6.54     58.90  \n",
       "z               4.04     31.80  \n",
       "price        5360.00  18818.00  "
      ]
     },
     "execution_count": 160,
     "metadata": {},
     "output_type": "execute_result"
    }
   ],
   "source": [
    "df.describe().T"
   ]
  },
  {
   "cell_type": "code",
   "execution_count": 135,
   "id": "3706ebf7",
   "metadata": {},
   "outputs": [
    {
     "name": "stdout",
     "output_type": "stream",
     "text": [
      "<class 'pandas.core.frame.DataFrame'>\n",
      "RangeIndex: 26967 entries, 0 to 26966\n",
      "Data columns (total 11 columns):\n",
      " #   Column      Non-Null Count  Dtype  \n",
      "---  ------      --------------  -----  \n",
      " 0   Unnamed: 0  26967 non-null  int64  \n",
      " 1   carat       26967 non-null  float64\n",
      " 2   cut         26967 non-null  object \n",
      " 3   color       26967 non-null  object \n",
      " 4   clarity     26967 non-null  object \n",
      " 5   depth       26270 non-null  float64\n",
      " 6   table       26967 non-null  float64\n",
      " 7   x           26967 non-null  float64\n",
      " 8   y           26967 non-null  float64\n",
      " 9   z           26967 non-null  float64\n",
      " 10  price       26967 non-null  int64  \n",
      "dtypes: float64(6), int64(2), object(3)\n",
      "memory usage: 2.3+ MB\n"
     ]
    }
   ],
   "source": [
    "df.info()"
   ]
  },
  {
   "cell_type": "code",
   "execution_count": 136,
   "id": "9f3ce04e",
   "metadata": {},
   "outputs": [
    {
     "data": {
      "text/plain": [
       "Unnamed: 0      0\n",
       "carat           0\n",
       "cut             0\n",
       "color           0\n",
       "clarity         0\n",
       "depth         697\n",
       "table           0\n",
       "x               0\n",
       "y               0\n",
       "z               0\n",
       "price           0\n",
       "dtype: int64"
      ]
     },
     "execution_count": 136,
     "metadata": {},
     "output_type": "execute_result"
    }
   ],
   "source": [
    "df.isnull().sum()"
   ]
  },
  {
   "cell_type": "code",
   "execution_count": 137,
   "id": "1a8918ab",
   "metadata": {},
   "outputs": [
    {
     "data": {
      "text/plain": [
       "0        62.1\n",
       "1        60.8\n",
       "2        62.2\n",
       "3        61.6\n",
       "4        60.4\n",
       "         ... \n",
       "26962    62.3\n",
       "26963    61.9\n",
       "26964    61.7\n",
       "26965    61.8\n",
       "26966    62.0\n",
       "Name: depth, Length: 26967, dtype: float64"
      ]
     },
     "execution_count": 137,
     "metadata": {},
     "output_type": "execute_result"
    }
   ],
   "source": [
    "df['depth']"
   ]
  },
  {
   "cell_type": "code",
   "execution_count": 138,
   "id": "f513f74d",
   "metadata": {},
   "outputs": [
    {
     "data": {
      "text/plain": [
       "61.8"
      ]
     },
     "execution_count": 138,
     "metadata": {},
     "output_type": "execute_result"
    }
   ],
   "source": [
    "df['depth'].median()"
   ]
  },
  {
   "cell_type": "code",
   "execution_count": 139,
   "id": "0528763c",
   "metadata": {},
   "outputs": [
    {
     "data": {
      "text/plain": [
       "61.74514655500572"
      ]
     },
     "execution_count": 139,
     "metadata": {},
     "output_type": "execute_result"
    }
   ],
   "source": [
    "df['depth'].mean()"
   ]
  },
  {
   "cell_type": "code",
   "execution_count": 141,
   "id": "ba738d85",
   "metadata": {},
   "outputs": [],
   "source": [
    "#  outliers are not present in depth"
   ]
  },
  {
   "cell_type": "code",
   "execution_count": 143,
   "id": "a2e18462",
   "metadata": {},
   "outputs": [],
   "source": [
    "import matplotlib.pyplot as plt"
   ]
  },
  {
   "cell_type": "code",
   "execution_count": 150,
   "id": "8a40bfe1",
   "metadata": {},
   "outputs": [
    {
     "data": {
      "text/plain": [
       "{'whiskers': [<matplotlib.lines.Line2D at 0x2d1c5f49ed0>,\n",
       "  <matplotlib.lines.Line2D at 0x2d1c5f4a170>],\n",
       " 'caps': [<matplotlib.lines.Line2D at 0x2d1c5f4a410>,\n",
       "  <matplotlib.lines.Line2D at 0x2d1c5f4a6b0>],\n",
       " 'boxes': [<matplotlib.lines.Line2D at 0x2d1c5f49c30>],\n",
       " 'medians': [<matplotlib.lines.Line2D at 0x2d1c5f4a950>],\n",
       " 'fliers': [<matplotlib.lines.Line2D at 0x2d1c5f4abf0>],\n",
       " 'means': []}"
      ]
     },
     "execution_count": 150,
     "metadata": {},
     "output_type": "execute_result"
    },
    {
     "data": {
      "image/png": "[encoded data removed]",
      "text/plain": [
       "<Figure size 640x480 with 1 Axes>"
      ]
     },
     "metadata": {},
     "output_type": "display_data"
    }
   ],
   "source": [
    "plt.boxplot(x=df['depth'])"
   ]
  },
  {
   "cell_type": "code",
   "execution_count": 155,
   "id": "81128a18",
   "metadata": {},
   "outputs": [
    {
     "name": "stdout",
     "output_type": "stream",
     "text": [
      "<class 'pandas.core.series.Series'>\n",
      "RangeIndex: 26967 entries, 0 to 26966\n",
      "Series name: depth\n",
      "Non-Null Count  Dtype  \n",
      "--------------  -----  \n",
      "26270 non-null  float64\n",
      "dtypes: float64(1)\n",
      "memory usage: 210.8 KB\n"
     ]
    }
   ],
   "source": [
    "df['depth'].info()"
   ]
  },
  {
   "cell_type": "code",
   "execution_count": 151,
   "id": "cdf07964",
   "metadata": {},
   "outputs": [],
   "source": [
    "import seaborn as sns"
   ]
  },
  {
   "cell_type": "code",
   "execution_count": 153,
   "id": "176d132a",
   "metadata": {},
   "outputs": [
    {
     "data": {
      "text/plain": [
       "<Axes: >"
      ]
     },
     "execution_count": 153,
     "metadata": {},
     "output_type": "execute_result"
    },
    {
     "data": {
      "image/png": "[encoded data removed]",
      "text/plain": [
       "<Figure size 640x480 with 1 Axes>"
      ]
     },
     "metadata": {},
     "output_type": "display_data"
    }
   ],
   "source": [
    "sns.boxplot(df['depth'])"
   ]
  },
  {
   "cell_type": "code",
   "execution_count": 154,
   "id": "e54c9839",
   "metadata": {},
   "outputs": [
    {
     "data": {
      "text/plain": [
       "14       66.2\n",
       "100      66.8\n",
       "174      68.3\n",
       "177      66.5\n",
       "428      70.6\n",
       "         ... \n",
       "25862    72.9\n",
       "25883    72.2\n",
       "26401    66.9\n",
       "26573    70.8\n",
       "26925    66.2\n",
       "Name: depth, Length: 178, dtype: float64"
      ]
     },
     "execution_count": 154,
     "metadata": {},
     "output_type": "execute_result"
    }
   ],
   "source": [
    "df['depth'][df['depth'] > 66]"
   ]
  },
  {
   "cell_type": "markdown",
   "id": "752d7894",
   "metadata": {},
   "source": [
    "### outliers are presnt in depth"
   ]
  },
  {
   "cell_type": "code",
   "execution_count": 172,
   "id": "b9eb9bfc",
   "metadata": {},
   "outputs": [],
   "source": [
    "df['depth'].fillna(df['depth'].median() ,inplace = True)\n",
    "# Here imputating with median as outliers are present"
   ]
  },
  {
   "cell_type": "code",
   "execution_count": 173,
   "id": "3a64e0a2",
   "metadata": {},
   "outputs": [
    {
     "data": {
      "text/plain": [
       "carat      0\n",
       "cut        0\n",
       "color      0\n",
       "clarity    0\n",
       "depth      0\n",
       "table      0\n",
       "x          0\n",
       "y          0\n",
       "z          0\n",
       "price      0\n",
       "dtype: int64"
      ]
     },
     "execution_count": 173,
     "metadata": {},
     "output_type": "execute_result"
    }
   ],
   "source": [
    "df.isnull().sum()"
   ]
  },
  {
   "cell_type": "code",
   "execution_count": null,
   "id": "e72b55dd",
   "metadata": {},
   "outputs": [],
   "source": []
  },
  {
   "cell_type": "code",
   "execution_count": 161,
   "id": "778e7815",
   "metadata": {},
   "outputs": [
    {
     "name": "stdout",
     "output_type": "stream",
     "text": [
      "<class 'pandas.core.frame.DataFrame'>\n",
      "RangeIndex: 26967 entries, 0 to 26966\n",
      "Data columns (total 11 columns):\n",
      " #   Column      Non-Null Count  Dtype  \n",
      "---  ------      --------------  -----  \n",
      " 0   Unnamed: 0  26967 non-null  int64  \n",
      " 1   carat       26967 non-null  float64\n",
      " 2   cut         26967 non-null  object \n",
      " 3   color       26967 non-null  object \n",
      " 4   clarity     26967 non-null  object \n",
      " 5   depth       26270 non-null  float64\n",
      " 6   table       26967 non-null  float64\n",
      " 7   x           26967 non-null  float64\n",
      " 8   y           26967 non-null  float64\n",
      " 9   z           26967 non-null  float64\n",
      " 10  price       26967 non-null  int64  \n",
      "dtypes: float64(6), int64(2), object(3)\n",
      "memory usage: 2.3+ MB\n"
     ]
    }
   ],
   "source": [
    "df.info()"
   ]
  },
  {
   "cell_type": "code",
   "execution_count": 162,
   "id": "11d8a124",
   "metadata": {},
   "outputs": [
    {
     "data": {
      "text/html": [
       "<div>\n",
       "<style scoped>\n",
       "    .dataframe tbody tr th:only-of-type {\n",
       "        vertical-align: middle;\n",
       "    }\n",
       "\n",
       "    .dataframe tbody tr th {\n",
       "        vertical-align: top;\n",
       "    }\n",
       "\n",
       "    .dataframe thead th {\n",
       "        text-align: right;\n",
       "    }\n",
       "</style>\n",
       "<table border=\"1\" class=\"dataframe\">\n",
       "  <thead>\n",
       "    <tr style=\"text-align: right;\">\n",
       "      <th></th>\n",
       "      <th>count</th>\n",
       "      <th>mean</th>\n",
       "      <th>std</th>\n",
       "      <th>min</th>\n",
       "      <th>25%</th>\n",
       "      <th>50%</th>\n",
       "      <th>75%</th>\n",
       "      <th>max</th>\n",
       "    </tr>\n",
       "  </thead>\n",
       "  <tbody>\n",
       "    <tr>\n",
       "      <th>Unnamed: 0</th>\n",
       "      <td>26967.0</td>\n",
       "      <td>13484.000000</td>\n",
       "      <td>7784.846691</td>\n",
       "      <td>1.0</td>\n",
       "      <td>6742.50</td>\n",
       "      <td>13484.00</td>\n",
       "      <td>20225.50</td>\n",
       "      <td>26967.00</td>\n",
       "    </tr>\n",
       "    <tr>\n",
       "      <th>carat</th>\n",
       "      <td>26967.0</td>\n",
       "      <td>0.798375</td>\n",
       "      <td>0.477745</td>\n",
       "      <td>0.2</td>\n",
       "      <td>0.40</td>\n",
       "      <td>0.70</td>\n",
       "      <td>1.05</td>\n",
       "      <td>4.50</td>\n",
       "    </tr>\n",
       "    <tr>\n",
       "      <th>depth</th>\n",
       "      <td>26270.0</td>\n",
       "      <td>61.745147</td>\n",
       "      <td>1.412860</td>\n",
       "      <td>50.8</td>\n",
       "      <td>61.00</td>\n",
       "      <td>61.80</td>\n",
       "      <td>62.50</td>\n",
       "      <td>73.60</td>\n",
       "    </tr>\n",
       "    <tr>\n",
       "      <th>table</th>\n",
       "      <td>26967.0</td>\n",
       "      <td>57.456080</td>\n",
       "      <td>2.232068</td>\n",
       "      <td>49.0</td>\n",
       "      <td>56.00</td>\n",
       "      <td>57.00</td>\n",
       "      <td>59.00</td>\n",
       "      <td>79.00</td>\n",
       "    </tr>\n",
       "    <tr>\n",
       "      <th>x</th>\n",
       "      <td>26967.0</td>\n",
       "      <td>5.729854</td>\n",
       "      <td>1.128516</td>\n",
       "      <td>0.0</td>\n",
       "      <td>4.71</td>\n",
       "      <td>5.69</td>\n",
       "      <td>6.55</td>\n",
       "      <td>10.23</td>\n",
       "    </tr>\n",
       "    <tr>\n",
       "      <th>y</th>\n",
       "      <td>26967.0</td>\n",
       "      <td>5.733569</td>\n",
       "      <td>1.166058</td>\n",
       "      <td>0.0</td>\n",
       "      <td>4.71</td>\n",
       "      <td>5.71</td>\n",
       "      <td>6.54</td>\n",
       "      <td>58.90</td>\n",
       "    </tr>\n",
       "    <tr>\n",
       "      <th>z</th>\n",
       "      <td>26967.0</td>\n",
       "      <td>3.538057</td>\n",
       "      <td>0.720624</td>\n",
       "      <td>0.0</td>\n",
       "      <td>2.90</td>\n",
       "      <td>3.52</td>\n",
       "      <td>4.04</td>\n",
       "      <td>31.80</td>\n",
       "    </tr>\n",
       "    <tr>\n",
       "      <th>price</th>\n",
       "      <td>26967.0</td>\n",
       "      <td>3939.518115</td>\n",
       "      <td>4024.864666</td>\n",
       "      <td>326.0</td>\n",
       "      <td>945.00</td>\n",
       "      <td>2375.00</td>\n",
       "      <td>5360.00</td>\n",
       "      <td>18818.00</td>\n",
       "    </tr>\n",
       "  </tbody>\n",
       "</table>\n",
       "</div>"
      ],
      "text/plain": [
       "              count          mean          std    min      25%       50%  \\\n",
       "Unnamed: 0  26967.0  13484.000000  7784.846691    1.0  6742.50  13484.00   \n",
       "carat       26967.0      0.798375     0.477745    0.2     0.40      0.70   \n",
       "depth       26270.0     61.745147     1.412860   50.8    61.00     61.80   \n",
       "table       26967.0     57.456080     2.232068   49.0    56.00     57.00   \n",
       "x           26967.0      5.729854     1.128516    0.0     4.71      5.69   \n",
       "y           26967.0      5.733569     1.166058    0.0     4.71      5.71   \n",
       "z           26967.0      3.538057     0.720624    0.0     2.90      3.52   \n",
       "price       26967.0   3939.518115  4024.864666  326.0   945.00   2375.00   \n",
       "\n",
       "                 75%       max  \n",
       "Unnamed: 0  20225.50  26967.00  \n",
       "carat           1.05      4.50  \n",
       "depth          62.50     73.60  \n",
       "table          59.00     79.00  \n",
       "x               6.55     10.23  \n",
       "y               6.54     58.90  \n",
       "z               4.04     31.80  \n",
       "price        5360.00  18818.00  "
      ]
     },
     "execution_count": 162,
     "metadata": {},
     "output_type": "execute_result"
    }
   ],
   "source": [
    "df.describe().T"
   ]
  },
  {
   "cell_type": "code",
   "execution_count": 168,
   "id": "f5221f21",
   "metadata": {},
   "outputs": [
    {
     "data": {
      "text/plain": [
       "(26967, 11)"
      ]
     },
     "execution_count": 168,
     "metadata": {},
     "output_type": "execute_result"
    }
   ],
   "source": [
    "df.shape"
   ]
  },
  {
   "cell_type": "code",
   "execution_count": 169,
   "id": "e79bdbb1",
   "metadata": {},
   "outputs": [],
   "source": [
    "df.drop('Unnamed: 0',inplace = True,axis = 1)"
   ]
  },
  {
   "cell_type": "code",
   "execution_count": 170,
   "id": "6680dca5",
   "metadata": {},
   "outputs": [
    {
     "data": {
      "text/plain": [
       "Index(['carat', 'cut', 'color', 'clarity', 'depth', 'table', 'x', 'y', 'z',\n",
       "       'price'],\n",
       "      dtype='object')"
      ]
     },
     "execution_count": 170,
     "metadata": {},
     "output_type": "execute_result"
    }
   ],
   "source": [
    "df.columns"
   ]
  },
  {
   "cell_type": "code",
   "execution_count": 176,
   "id": "e9b3fe7c",
   "metadata": {},
   "outputs": [],
   "source": [
    "df.loc[df['x'] == 0,'x'] = df['x'].median()\n",
    "#  Finding cases where "
   ]
  },
  {
   "cell_type": "code",
   "execution_count": 181,
   "id": "02cc01ba",
   "metadata": {},
   "outputs": [],
   "source": [
    "df.loc[df['y'] == 0,'y'] = df['y'].median()\n",
    "df.loc[df['z'] == 0,'z'] = df['z'].median()"
   ]
  },
  {
   "cell_type": "code",
   "execution_count": 179,
   "id": "fdbc1d6d",
   "metadata": {},
   "outputs": [
    {
     "data": {
      "text/plain": [
       "5821     0.0\n",
       "6034     0.0\n",
       "6215     0.0\n",
       "10827    0.0\n",
       "12498    0.0\n",
       "12689    0.0\n",
       "17506    0.0\n",
       "18194    0.0\n",
       "23758    0.0\n",
       "Name: z, dtype: float64"
      ]
     },
     "execution_count": 179,
     "metadata": {},
     "output_type": "execute_result"
    }
   ],
   "source": [
    "df.loc[df['z'] == 0,'z']"
   ]
  },
  {
   "cell_type": "code",
   "execution_count": 180,
   "id": "5ffb250f",
   "metadata": {},
   "outputs": [
    {
     "data": {
      "text/plain": [
       "3.52"
      ]
     },
     "execution_count": 180,
     "metadata": {},
     "output_type": "execute_result"
    }
   ],
   "source": [
    "df['z'].median()"
   ]
  },
  {
   "cell_type": "code",
   "execution_count": 182,
   "id": "b076cd60",
   "metadata": {},
   "outputs": [
    {
     "data": {
      "text/html": [
       "<div>\n",
       "<style scoped>\n",
       "    .dataframe tbody tr th:only-of-type {\n",
       "        vertical-align: middle;\n",
       "    }\n",
       "\n",
       "    .dataframe tbody tr th {\n",
       "        vertical-align: top;\n",
       "    }\n",
       "\n",
       "    .dataframe thead th {\n",
       "        text-align: right;\n",
       "    }\n",
       "</style>\n",
       "<table border=\"1\" class=\"dataframe\">\n",
       "  <thead>\n",
       "    <tr style=\"text-align: right;\">\n",
       "      <th></th>\n",
       "      <th>carat</th>\n",
       "      <th>depth</th>\n",
       "      <th>table</th>\n",
       "      <th>x</th>\n",
       "      <th>y</th>\n",
       "      <th>z</th>\n",
       "      <th>price</th>\n",
       "    </tr>\n",
       "  </thead>\n",
       "  <tbody>\n",
       "    <tr>\n",
       "      <th>count</th>\n",
       "      <td>26967.000000</td>\n",
       "      <td>26967.000000</td>\n",
       "      <td>26967.000000</td>\n",
       "      <td>26967.000000</td>\n",
       "      <td>26967.000000</td>\n",
       "      <td>26967.000000</td>\n",
       "      <td>26967.000000</td>\n",
       "    </tr>\n",
       "    <tr>\n",
       "      <th>mean</th>\n",
       "      <td>0.798375</td>\n",
       "      <td>61.746564</td>\n",
       "      <td>57.456080</td>\n",
       "      <td>5.730487</td>\n",
       "      <td>5.734204</td>\n",
       "      <td>3.539232</td>\n",
       "      <td>3939.518115</td>\n",
       "    </tr>\n",
       "    <tr>\n",
       "      <th>std</th>\n",
       "      <td>0.477745</td>\n",
       "      <td>1.394509</td>\n",
       "      <td>2.232068</td>\n",
       "      <td>1.126897</td>\n",
       "      <td>1.164488</td>\n",
       "      <td>0.717718</td>\n",
       "      <td>4024.864666</td>\n",
       "    </tr>\n",
       "    <tr>\n",
       "      <th>min</th>\n",
       "      <td>0.200000</td>\n",
       "      <td>50.800000</td>\n",
       "      <td>49.000000</td>\n",
       "      <td>3.730000</td>\n",
       "      <td>3.710000</td>\n",
       "      <td>1.070000</td>\n",
       "      <td>326.000000</td>\n",
       "    </tr>\n",
       "    <tr>\n",
       "      <th>25%</th>\n",
       "      <td>0.400000</td>\n",
       "      <td>61.100000</td>\n",
       "      <td>56.000000</td>\n",
       "      <td>4.710000</td>\n",
       "      <td>4.720000</td>\n",
       "      <td>2.900000</td>\n",
       "      <td>945.000000</td>\n",
       "    </tr>\n",
       "    <tr>\n",
       "      <th>50%</th>\n",
       "      <td>0.700000</td>\n",
       "      <td>61.800000</td>\n",
       "      <td>57.000000</td>\n",
       "      <td>5.690000</td>\n",
       "      <td>5.710000</td>\n",
       "      <td>3.520000</td>\n",
       "      <td>2375.000000</td>\n",
       "    </tr>\n",
       "    <tr>\n",
       "      <th>75%</th>\n",
       "      <td>1.050000</td>\n",
       "      <td>62.500000</td>\n",
       "      <td>59.000000</td>\n",
       "      <td>6.550000</td>\n",
       "      <td>6.540000</td>\n",
       "      <td>4.040000</td>\n",
       "      <td>5360.000000</td>\n",
       "    </tr>\n",
       "    <tr>\n",
       "      <th>max</th>\n",
       "      <td>4.500000</td>\n",
       "      <td>73.600000</td>\n",
       "      <td>79.000000</td>\n",
       "      <td>10.230000</td>\n",
       "      <td>58.900000</td>\n",
       "      <td>31.800000</td>\n",
       "      <td>18818.000000</td>\n",
       "    </tr>\n",
       "  </tbody>\n",
       "</table>\n",
       "</div>"
      ],
      "text/plain": [
       "              carat         depth         table             x             y  \\\n",
       "count  26967.000000  26967.000000  26967.000000  26967.000000  26967.000000   \n",
       "mean       0.798375     61.746564     57.456080      5.730487      5.734204   \n",
       "std        0.477745      1.394509      2.232068      1.126897      1.164488   \n",
       "min        0.200000     50.800000     49.000000      3.730000      3.710000   \n",
       "25%        0.400000     61.100000     56.000000      4.710000      4.720000   \n",
       "50%        0.700000     61.800000     57.000000      5.690000      5.710000   \n",
       "75%        1.050000     62.500000     59.000000      6.550000      6.540000   \n",
       "max        4.500000     73.600000     79.000000     10.230000     58.900000   \n",
       "\n",
       "                  z         price  \n",
       "count  26967.000000  26967.000000  \n",
       "mean       3.539232   3939.518115  \n",
       "std        0.717718   4024.864666  \n",
       "min        1.070000    326.000000  \n",
       "25%        2.900000    945.000000  \n",
       "50%        3.520000   2375.000000  \n",
       "75%        4.040000   5360.000000  \n",
       "max       31.800000  18818.000000  "
      ]
     },
     "execution_count": 182,
     "metadata": {},
     "output_type": "execute_result"
    }
   ],
   "source": [
    "df.describe()"
   ]
  },
  {
   "cell_type": "markdown",
   "id": "71818215",
   "metadata": {},
   "source": [
    "### EDA "
   ]
  },
  {
   "cell_type": "markdown",
   "id": "777ef1fb",
   "metadata": {},
   "source": [
    "## Carat"
   ]
  },
  {
   "cell_type": "code",
   "execution_count": 183,
   "id": "116c3aaf",
   "metadata": {},
   "outputs": [
    {
     "data": {
      "image/png": "[encoded data removed]",
      "text/plain": [
       "<Figure size 640x480 with 1 Axes>"
      ]
     },
     "metadata": {},
     "output_type": "display_data"
    }
   ],
   "source": [
    "# Univariate analysis\n",
    "sns.boxplot(df['carat'])\n",
    "plt.show()"
   ]
  },
  {
   "cell_type": "code",
   "execution_count": 185,
   "id": "9fa9febb",
   "metadata": {},
   "outputs": [
    {
     "data": {
      "text/plain": [
       "79       2.16\n",
       "119      2.02\n",
       "124      2.80\n",
       "135      2.20\n",
       "204      2.01\n",
       "         ... \n",
       "26745    2.01\n",
       "26845    2.23\n",
       "26869    3.24\n",
       "26924    2.03\n",
       "26957    2.09\n",
       "Name: carat, Length: 975, dtype: float64"
      ]
     },
     "execution_count": 185,
     "metadata": {},
     "output_type": "execute_result"
    }
   ],
   "source": [
    "df.loc[df['carat'] > 2,'carat']\n",
    "# There are 975 outliers present in carat Nope further analyse"
   ]
  },
  {
   "cell_type": "code",
   "execution_count": 189,
   "id": "87b71b8e",
   "metadata": {},
   "outputs": [
    {
     "data": {
      "text/plain": [
       "0.4"
      ]
     },
     "execution_count": 189,
     "metadata": {},
     "output_type": "execute_result"
    }
   ],
   "source": [
    "Q1 = df['carat'].quantile(0.25)\n",
    "Q1"
   ]
  },
  {
   "cell_type": "code",
   "execution_count": 190,
   "id": "fefe0d4e",
   "metadata": {},
   "outputs": [
    {
     "data": {
      "text/plain": [
       "1.05"
      ]
     },
     "execution_count": 190,
     "metadata": {},
     "output_type": "execute_result"
    }
   ],
   "source": [
    "Q3 = df['carat'].quantile(0.75)\n",
    "Q3"
   ]
  },
  {
   "cell_type": "code",
   "execution_count": 191,
   "id": "b339e1d6",
   "metadata": {},
   "outputs": [],
   "source": [
    "IQR  = Q3 - Q1\n",
    "lower_range = Q1 - 1.5 * IQR\n",
    "upper_range = Q3 + 1.5 * IQR"
   ]
  },
  {
   "cell_type": "code",
   "execution_count": 192,
   "id": "0cac308f",
   "metadata": {},
   "outputs": [
    {
     "name": "stdout",
     "output_type": "stream",
     "text": [
      "-0.5750000000000001\n",
      "2.0250000000000004\n"
     ]
    }
   ],
   "source": [
    "print(lower_range)\n",
    "print(upper_range)"
   ]
  },
  {
   "cell_type": "code",
   "execution_count": 194,
   "id": "8b1d33df",
   "metadata": {},
   "outputs": [
    {
     "data": {
      "text/plain": [
       "Series([], Name: carat, dtype: float64)"
      ]
     },
     "execution_count": 194,
     "metadata": {},
     "output_type": "execute_result"
    }
   ],
   "source": [
    "df.loc[df['carat'] < lower_range,'carat']"
   ]
  },
  {
   "cell_type": "code",
   "execution_count": 195,
   "id": "bcb953f7",
   "metadata": {},
   "outputs": [
    {
     "data": {
      "text/plain": [
       "79       2.16\n",
       "124      2.80\n",
       "135      2.20\n",
       "263      2.11\n",
       "281      2.11\n",
       "         ... \n",
       "26680    2.21\n",
       "26845    2.23\n",
       "26869    3.24\n",
       "26924    2.03\n",
       "26957    2.09\n",
       "Name: carat, Length: 662, dtype: float64"
      ]
     },
     "execution_count": 195,
     "metadata": {},
     "output_type": "execute_result"
    }
   ],
   "source": [
    "df.loc[df['carat'] > upper_range,'carat']\n",
    "# 662 are outliers"
   ]
  },
  {
   "cell_type": "markdown",
   "id": "af485b0a",
   "metadata": {},
   "source": [
    "### Cut "
   ]
  },
  {
   "cell_type": "code",
   "execution_count": 196,
   "id": "1776f623",
   "metadata": {},
   "outputs": [
    {
     "data": {
      "text/plain": [
       "Index(['carat', 'cut', 'color', 'clarity', 'depth', 'table', 'x', 'y', 'z',\n",
       "       'price'],\n",
       "      dtype='object')"
      ]
     },
     "execution_count": 196,
     "metadata": {},
     "output_type": "execute_result"
    }
   ],
   "source": [
    "df.columns"
   ]
  },
  {
   "cell_type": "code",
   "execution_count": null,
   "id": "34845514",
   "metadata": {},
   "outputs": [],
   "source": [
    "df['']\n",
    "# Find out the percentage of outliers in the dataset per column\n",
    "#  Create a function too automate it and then loop through the entire list of columns\n",
    "# Decide whether to impute or have a ceiling in this case celing would be prefereed as the number \n",
    "# of data points are very less for eg 200 M data points then 5 % removing allowed  but incase of 400 \n",
    "# data points even 5 % is too much\n",
    "# Celing should be used "
   ]
  }
 ],
 "metadata": {
  "kernelspec": {
   "display_name": "Python 3 (ipykernel)",
   "language": "python",
   "name": "python3"
  },
  "language_info": {
   "codemirror_mode": {
    "name": "ipython",
    "version": 3
   },
   "file_extension": ".py",
   "mimetype": "text/x-python",
   "name": "python",
   "nbconvert_exporter": "python",
   "pygments_lexer": "ipython3",
   "version": "3.10.9"
  }
 },
 "nbformat": 4,
 "nbformat_minor": 5
}
